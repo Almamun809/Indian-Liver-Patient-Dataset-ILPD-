{
  "nbformat": 4,
  "nbformat_minor": 0,
  "metadata": {
    "colab": {
      "name": "Poor Performed Model with various ML algorithms .ipynb",
      "provenance": [],
      "collapsed_sections": []
    },
    "kernelspec": {
      "name": "python3",
      "display_name": "Python 3"
    },
    "accelerator": "GPU"
  },
  "cells": [
    {
      "cell_type": "code",
      "metadata": {
        "id": "1sFVdHQBw-L6"
      },
      "source": [
        "import pandas as pd\n",
        "import numpy as np\n",
        "import matplotlib.pyplot as plt\n",
        "import seaborn as sns\n",
        "\n",
        "%matplotlib inline"
      ],
      "execution_count": null,
      "outputs": []
    },
    {
      "cell_type": "code",
      "metadata": {
        "id": "_Bd88uTcz8vk",
        "colab": {
          "base_uri": "https://localhost:8080/"
        },
        "outputId": "50e4afef-3b96-4420-ac4d-bea29f750d19"
      },
      "source": [
        "from google.colab import drive\n",
        "drive.mount('/content/drive')\n",
        "!ls \"/content/drive/My Drive/Indian Liver patient dataset/indian_liver_patient.csv\""
      ],
      "execution_count": null,
      "outputs": [
        {
          "output_type": "stream",
          "text": [
            "Drive already mounted at /content/drive; to attempt to forcibly remount, call drive.mount(\"/content/drive\", force_remount=True).\n",
            "'/content/drive/My Drive/Indian Liver patient dataset/indian_liver_patient.csv'\n"
          ],
          "name": "stdout"
        }
      ]
    },
    {
      "cell_type": "code",
      "metadata": {
        "id": "eLR4h-n43Q9R"
      },
      "source": [
        "df_liver = pd.read_csv('/content/drive/My Drive/Indian Liver patient dataset/indian_liver_patient.csv')"
      ],
      "execution_count": null,
      "outputs": []
    },
    {
      "cell_type": "code",
      "metadata": {
        "colab": {
          "base_uri": "https://localhost:8080/",
          "height": 204
        },
        "id": "QZtCZY0N4cMI",
        "outputId": "3c024953-1194-457a-d3bc-eb2a251a0bd4"
      },
      "source": [
        "df_liver.head()"
      ],
      "execution_count": null,
      "outputs": [
        {
          "output_type": "execute_result",
          "data": {
            "text/html": [
              "<div>\n",
              "<style scoped>\n",
              "    .dataframe tbody tr th:only-of-type {\n",
              "        vertical-align: middle;\n",
              "    }\n",
              "\n",
              "    .dataframe tbody tr th {\n",
              "        vertical-align: top;\n",
              "    }\n",
              "\n",
              "    .dataframe thead th {\n",
              "        text-align: right;\n",
              "    }\n",
              "</style>\n",
              "<table border=\"1\" class=\"dataframe\">\n",
              "  <thead>\n",
              "    <tr style=\"text-align: right;\">\n",
              "      <th></th>\n",
              "      <th>Age</th>\n",
              "      <th>Gender</th>\n",
              "      <th>Total_Bilirubin</th>\n",
              "      <th>Direct_Bilirubin</th>\n",
              "      <th>Alkaline_Phosphotase</th>\n",
              "      <th>Alamine_Aminotransferase</th>\n",
              "      <th>Aspartate_Aminotransferase</th>\n",
              "      <th>Total_Protiens</th>\n",
              "      <th>Albumin</th>\n",
              "      <th>Albumin_and_Globulin_Ratio</th>\n",
              "      <th>Dataset</th>\n",
              "    </tr>\n",
              "  </thead>\n",
              "  <tbody>\n",
              "    <tr>\n",
              "      <th>0</th>\n",
              "      <td>65</td>\n",
              "      <td>Female</td>\n",
              "      <td>0.7</td>\n",
              "      <td>0.1</td>\n",
              "      <td>187</td>\n",
              "      <td>16</td>\n",
              "      <td>18</td>\n",
              "      <td>6.8</td>\n",
              "      <td>3.3</td>\n",
              "      <td>0.90</td>\n",
              "      <td>1</td>\n",
              "    </tr>\n",
              "    <tr>\n",
              "      <th>1</th>\n",
              "      <td>62</td>\n",
              "      <td>Male</td>\n",
              "      <td>10.9</td>\n",
              "      <td>5.5</td>\n",
              "      <td>699</td>\n",
              "      <td>64</td>\n",
              "      <td>100</td>\n",
              "      <td>7.5</td>\n",
              "      <td>3.2</td>\n",
              "      <td>0.74</td>\n",
              "      <td>1</td>\n",
              "    </tr>\n",
              "    <tr>\n",
              "      <th>2</th>\n",
              "      <td>62</td>\n",
              "      <td>Male</td>\n",
              "      <td>7.3</td>\n",
              "      <td>4.1</td>\n",
              "      <td>490</td>\n",
              "      <td>60</td>\n",
              "      <td>68</td>\n",
              "      <td>7.0</td>\n",
              "      <td>3.3</td>\n",
              "      <td>0.89</td>\n",
              "      <td>1</td>\n",
              "    </tr>\n",
              "    <tr>\n",
              "      <th>3</th>\n",
              "      <td>58</td>\n",
              "      <td>Male</td>\n",
              "      <td>1.0</td>\n",
              "      <td>0.4</td>\n",
              "      <td>182</td>\n",
              "      <td>14</td>\n",
              "      <td>20</td>\n",
              "      <td>6.8</td>\n",
              "      <td>3.4</td>\n",
              "      <td>1.00</td>\n",
              "      <td>1</td>\n",
              "    </tr>\n",
              "    <tr>\n",
              "      <th>4</th>\n",
              "      <td>72</td>\n",
              "      <td>Male</td>\n",
              "      <td>3.9</td>\n",
              "      <td>2.0</td>\n",
              "      <td>195</td>\n",
              "      <td>27</td>\n",
              "      <td>59</td>\n",
              "      <td>7.3</td>\n",
              "      <td>2.4</td>\n",
              "      <td>0.40</td>\n",
              "      <td>1</td>\n",
              "    </tr>\n",
              "  </tbody>\n",
              "</table>\n",
              "</div>"
            ],
            "text/plain": [
              "   Age  Gender  Total_Bilirubin  ...  Albumin  Albumin_and_Globulin_Ratio  Dataset\n",
              "0   65  Female              0.7  ...      3.3                        0.90        1\n",
              "1   62    Male             10.9  ...      3.2                        0.74        1\n",
              "2   62    Male              7.3  ...      3.3                        0.89        1\n",
              "3   58    Male              1.0  ...      3.4                        1.00        1\n",
              "4   72    Male              3.9  ...      2.4                        0.40        1\n",
              "\n",
              "[5 rows x 11 columns]"
            ]
          },
          "metadata": {
            "tags": []
          },
          "execution_count": 19
        }
      ]
    },
    {
      "cell_type": "code",
      "metadata": {
        "colab": {
          "base_uri": "https://localhost:8080/"
        },
        "id": "KiEGzkOn4s5o",
        "outputId": "63762006-9ce1-45fc-d76c-897891c92ae5"
      },
      "source": [
        "df_liver.columns.values"
      ],
      "execution_count": null,
      "outputs": [
        {
          "output_type": "execute_result",
          "data": {
            "text/plain": [
              "array(['Age', 'Gender', 'Total_Bilirubin', 'Direct_Bilirubin',\n",
              "       'Alkaline_Phosphotase', 'Alamine_Aminotransferase',\n",
              "       'Aspartate_Aminotransferase', 'Total_Protiens', 'Albumin',\n",
              "       'Albumin_and_Globulin_Ratio', 'Dataset'], dtype=object)"
            ]
          },
          "metadata": {
            "tags": []
          },
          "execution_count": 20
        }
      ]
    },
    {
      "cell_type": "code",
      "metadata": {
        "colab": {
          "base_uri": "https://localhost:8080/"
        },
        "id": "ELQLO-7p5Kt_",
        "outputId": "40b30275-ef7c-4655-edc8-cf8181e3ccba"
      },
      "source": [
        "df_liver.info()"
      ],
      "execution_count": null,
      "outputs": [
        {
          "output_type": "stream",
          "text": [
            "<class 'pandas.core.frame.DataFrame'>\n",
            "RangeIndex: 583 entries, 0 to 582\n",
            "Data columns (total 11 columns):\n",
            " #   Column                      Non-Null Count  Dtype  \n",
            "---  ------                      --------------  -----  \n",
            " 0   Age                         583 non-null    int64  \n",
            " 1   Gender                      583 non-null    object \n",
            " 2   Total_Bilirubin             583 non-null    float64\n",
            " 3   Direct_Bilirubin            583 non-null    float64\n",
            " 4   Alkaline_Phosphotase        583 non-null    int64  \n",
            " 5   Alamine_Aminotransferase    583 non-null    int64  \n",
            " 6   Aspartate_Aminotransferase  583 non-null    int64  \n",
            " 7   Total_Protiens              583 non-null    float64\n",
            " 8   Albumin                     583 non-null    float64\n",
            " 9   Albumin_and_Globulin_Ratio  579 non-null    float64\n",
            " 10  Dataset                     583 non-null    int64  \n",
            "dtypes: float64(5), int64(5), object(1)\n",
            "memory usage: 50.2+ KB\n"
          ],
          "name": "stdout"
        }
      ]
    },
    {
      "cell_type": "code",
      "metadata": {
        "colab": {
          "base_uri": "https://localhost:8080/"
        },
        "id": "-qFJL25E5mef",
        "outputId": "c9969838-bfd8-4ffa-f7df-a88a4de210cc"
      },
      "source": [
        "df_liver.shape"
      ],
      "execution_count": null,
      "outputs": [
        {
          "output_type": "execute_result",
          "data": {
            "text/plain": [
              "(583, 11)"
            ]
          },
          "metadata": {
            "tags": []
          },
          "execution_count": 22
        }
      ]
    },
    {
      "cell_type": "code",
      "metadata": {
        "colab": {
          "base_uri": "https://localhost:8080/",
          "height": 297
        },
        "id": "AWgWkf-W5q3n",
        "outputId": "91c78811-471b-465b-9bd1-bd403a02a0b7"
      },
      "source": [
        "df_liver.describe()"
      ],
      "execution_count": null,
      "outputs": [
        {
          "output_type": "execute_result",
          "data": {
            "text/html": [
              "<div>\n",
              "<style scoped>\n",
              "    .dataframe tbody tr th:only-of-type {\n",
              "        vertical-align: middle;\n",
              "    }\n",
              "\n",
              "    .dataframe tbody tr th {\n",
              "        vertical-align: top;\n",
              "    }\n",
              "\n",
              "    .dataframe thead th {\n",
              "        text-align: right;\n",
              "    }\n",
              "</style>\n",
              "<table border=\"1\" class=\"dataframe\">\n",
              "  <thead>\n",
              "    <tr style=\"text-align: right;\">\n",
              "      <th></th>\n",
              "      <th>Age</th>\n",
              "      <th>Total_Bilirubin</th>\n",
              "      <th>Direct_Bilirubin</th>\n",
              "      <th>Alkaline_Phosphotase</th>\n",
              "      <th>Alamine_Aminotransferase</th>\n",
              "      <th>Aspartate_Aminotransferase</th>\n",
              "      <th>Total_Protiens</th>\n",
              "      <th>Albumin</th>\n",
              "      <th>Albumin_and_Globulin_Ratio</th>\n",
              "      <th>Dataset</th>\n",
              "    </tr>\n",
              "  </thead>\n",
              "  <tbody>\n",
              "    <tr>\n",
              "      <th>count</th>\n",
              "      <td>583.000000</td>\n",
              "      <td>583.000000</td>\n",
              "      <td>583.000000</td>\n",
              "      <td>583.000000</td>\n",
              "      <td>583.000000</td>\n",
              "      <td>583.000000</td>\n",
              "      <td>583.000000</td>\n",
              "      <td>583.000000</td>\n",
              "      <td>579.000000</td>\n",
              "      <td>583.000000</td>\n",
              "    </tr>\n",
              "    <tr>\n",
              "      <th>mean</th>\n",
              "      <td>44.746141</td>\n",
              "      <td>3.298799</td>\n",
              "      <td>1.486106</td>\n",
              "      <td>290.576329</td>\n",
              "      <td>80.713551</td>\n",
              "      <td>109.910806</td>\n",
              "      <td>6.483190</td>\n",
              "      <td>3.141852</td>\n",
              "      <td>0.947064</td>\n",
              "      <td>1.286449</td>\n",
              "    </tr>\n",
              "    <tr>\n",
              "      <th>std</th>\n",
              "      <td>16.189833</td>\n",
              "      <td>6.209522</td>\n",
              "      <td>2.808498</td>\n",
              "      <td>242.937989</td>\n",
              "      <td>182.620356</td>\n",
              "      <td>288.918529</td>\n",
              "      <td>1.085451</td>\n",
              "      <td>0.795519</td>\n",
              "      <td>0.319592</td>\n",
              "      <td>0.452490</td>\n",
              "    </tr>\n",
              "    <tr>\n",
              "      <th>min</th>\n",
              "      <td>4.000000</td>\n",
              "      <td>0.400000</td>\n",
              "      <td>0.100000</td>\n",
              "      <td>63.000000</td>\n",
              "      <td>10.000000</td>\n",
              "      <td>10.000000</td>\n",
              "      <td>2.700000</td>\n",
              "      <td>0.900000</td>\n",
              "      <td>0.300000</td>\n",
              "      <td>1.000000</td>\n",
              "    </tr>\n",
              "    <tr>\n",
              "      <th>25%</th>\n",
              "      <td>33.000000</td>\n",
              "      <td>0.800000</td>\n",
              "      <td>0.200000</td>\n",
              "      <td>175.500000</td>\n",
              "      <td>23.000000</td>\n",
              "      <td>25.000000</td>\n",
              "      <td>5.800000</td>\n",
              "      <td>2.600000</td>\n",
              "      <td>0.700000</td>\n",
              "      <td>1.000000</td>\n",
              "    </tr>\n",
              "    <tr>\n",
              "      <th>50%</th>\n",
              "      <td>45.000000</td>\n",
              "      <td>1.000000</td>\n",
              "      <td>0.300000</td>\n",
              "      <td>208.000000</td>\n",
              "      <td>35.000000</td>\n",
              "      <td>42.000000</td>\n",
              "      <td>6.600000</td>\n",
              "      <td>3.100000</td>\n",
              "      <td>0.930000</td>\n",
              "      <td>1.000000</td>\n",
              "    </tr>\n",
              "    <tr>\n",
              "      <th>75%</th>\n",
              "      <td>58.000000</td>\n",
              "      <td>2.600000</td>\n",
              "      <td>1.300000</td>\n",
              "      <td>298.000000</td>\n",
              "      <td>60.500000</td>\n",
              "      <td>87.000000</td>\n",
              "      <td>7.200000</td>\n",
              "      <td>3.800000</td>\n",
              "      <td>1.100000</td>\n",
              "      <td>2.000000</td>\n",
              "    </tr>\n",
              "    <tr>\n",
              "      <th>max</th>\n",
              "      <td>90.000000</td>\n",
              "      <td>75.000000</td>\n",
              "      <td>19.700000</td>\n",
              "      <td>2110.000000</td>\n",
              "      <td>2000.000000</td>\n",
              "      <td>4929.000000</td>\n",
              "      <td>9.600000</td>\n",
              "      <td>5.500000</td>\n",
              "      <td>2.800000</td>\n",
              "      <td>2.000000</td>\n",
              "    </tr>\n",
              "  </tbody>\n",
              "</table>\n",
              "</div>"
            ],
            "text/plain": [
              "              Age  Total_Bilirubin  ...  Albumin_and_Globulin_Ratio     Dataset\n",
              "count  583.000000       583.000000  ...                  579.000000  583.000000\n",
              "mean    44.746141         3.298799  ...                    0.947064    1.286449\n",
              "std     16.189833         6.209522  ...                    0.319592    0.452490\n",
              "min      4.000000         0.400000  ...                    0.300000    1.000000\n",
              "25%     33.000000         0.800000  ...                    0.700000    1.000000\n",
              "50%     45.000000         1.000000  ...                    0.930000    1.000000\n",
              "75%     58.000000         2.600000  ...                    1.100000    2.000000\n",
              "max     90.000000        75.000000  ...                    2.800000    2.000000\n",
              "\n",
              "[8 rows x 10 columns]"
            ]
          },
          "metadata": {
            "tags": []
          },
          "execution_count": 23
        }
      ]
    },
    {
      "cell_type": "code",
      "metadata": {
        "colab": {
          "base_uri": "https://localhost:8080/",
          "height": 390
        },
        "id": "eFfH9UT25-Sn",
        "outputId": "1fe50f7a-03c1-4f63-dc52-6b4f54d4517d"
      },
      "source": [
        "df_liver.describe(include ='all')"
      ],
      "execution_count": null,
      "outputs": [
        {
          "output_type": "execute_result",
          "data": {
            "text/html": [
              "<div>\n",
              "<style scoped>\n",
              "    .dataframe tbody tr th:only-of-type {\n",
              "        vertical-align: middle;\n",
              "    }\n",
              "\n",
              "    .dataframe tbody tr th {\n",
              "        vertical-align: top;\n",
              "    }\n",
              "\n",
              "    .dataframe thead th {\n",
              "        text-align: right;\n",
              "    }\n",
              "</style>\n",
              "<table border=\"1\" class=\"dataframe\">\n",
              "  <thead>\n",
              "    <tr style=\"text-align: right;\">\n",
              "      <th></th>\n",
              "      <th>Age</th>\n",
              "      <th>Gender</th>\n",
              "      <th>Total_Bilirubin</th>\n",
              "      <th>Direct_Bilirubin</th>\n",
              "      <th>Alkaline_Phosphotase</th>\n",
              "      <th>Alamine_Aminotransferase</th>\n",
              "      <th>Aspartate_Aminotransferase</th>\n",
              "      <th>Total_Protiens</th>\n",
              "      <th>Albumin</th>\n",
              "      <th>Albumin_and_Globulin_Ratio</th>\n",
              "      <th>Dataset</th>\n",
              "    </tr>\n",
              "  </thead>\n",
              "  <tbody>\n",
              "    <tr>\n",
              "      <th>count</th>\n",
              "      <td>583.000000</td>\n",
              "      <td>583</td>\n",
              "      <td>583.000000</td>\n",
              "      <td>583.000000</td>\n",
              "      <td>583.000000</td>\n",
              "      <td>583.000000</td>\n",
              "      <td>583.000000</td>\n",
              "      <td>583.000000</td>\n",
              "      <td>583.000000</td>\n",
              "      <td>579.000000</td>\n",
              "      <td>583.000000</td>\n",
              "    </tr>\n",
              "    <tr>\n",
              "      <th>unique</th>\n",
              "      <td>NaN</td>\n",
              "      <td>2</td>\n",
              "      <td>NaN</td>\n",
              "      <td>NaN</td>\n",
              "      <td>NaN</td>\n",
              "      <td>NaN</td>\n",
              "      <td>NaN</td>\n",
              "      <td>NaN</td>\n",
              "      <td>NaN</td>\n",
              "      <td>NaN</td>\n",
              "      <td>NaN</td>\n",
              "    </tr>\n",
              "    <tr>\n",
              "      <th>top</th>\n",
              "      <td>NaN</td>\n",
              "      <td>Male</td>\n",
              "      <td>NaN</td>\n",
              "      <td>NaN</td>\n",
              "      <td>NaN</td>\n",
              "      <td>NaN</td>\n",
              "      <td>NaN</td>\n",
              "      <td>NaN</td>\n",
              "      <td>NaN</td>\n",
              "      <td>NaN</td>\n",
              "      <td>NaN</td>\n",
              "    </tr>\n",
              "    <tr>\n",
              "      <th>freq</th>\n",
              "      <td>NaN</td>\n",
              "      <td>441</td>\n",
              "      <td>NaN</td>\n",
              "      <td>NaN</td>\n",
              "      <td>NaN</td>\n",
              "      <td>NaN</td>\n",
              "      <td>NaN</td>\n",
              "      <td>NaN</td>\n",
              "      <td>NaN</td>\n",
              "      <td>NaN</td>\n",
              "      <td>NaN</td>\n",
              "    </tr>\n",
              "    <tr>\n",
              "      <th>mean</th>\n",
              "      <td>44.746141</td>\n",
              "      <td>NaN</td>\n",
              "      <td>3.298799</td>\n",
              "      <td>1.486106</td>\n",
              "      <td>290.576329</td>\n",
              "      <td>80.713551</td>\n",
              "      <td>109.910806</td>\n",
              "      <td>6.483190</td>\n",
              "      <td>3.141852</td>\n",
              "      <td>0.947064</td>\n",
              "      <td>1.286449</td>\n",
              "    </tr>\n",
              "    <tr>\n",
              "      <th>std</th>\n",
              "      <td>16.189833</td>\n",
              "      <td>NaN</td>\n",
              "      <td>6.209522</td>\n",
              "      <td>2.808498</td>\n",
              "      <td>242.937989</td>\n",
              "      <td>182.620356</td>\n",
              "      <td>288.918529</td>\n",
              "      <td>1.085451</td>\n",
              "      <td>0.795519</td>\n",
              "      <td>0.319592</td>\n",
              "      <td>0.452490</td>\n",
              "    </tr>\n",
              "    <tr>\n",
              "      <th>min</th>\n",
              "      <td>4.000000</td>\n",
              "      <td>NaN</td>\n",
              "      <td>0.400000</td>\n",
              "      <td>0.100000</td>\n",
              "      <td>63.000000</td>\n",
              "      <td>10.000000</td>\n",
              "      <td>10.000000</td>\n",
              "      <td>2.700000</td>\n",
              "      <td>0.900000</td>\n",
              "      <td>0.300000</td>\n",
              "      <td>1.000000</td>\n",
              "    </tr>\n",
              "    <tr>\n",
              "      <th>25%</th>\n",
              "      <td>33.000000</td>\n",
              "      <td>NaN</td>\n",
              "      <td>0.800000</td>\n",
              "      <td>0.200000</td>\n",
              "      <td>175.500000</td>\n",
              "      <td>23.000000</td>\n",
              "      <td>25.000000</td>\n",
              "      <td>5.800000</td>\n",
              "      <td>2.600000</td>\n",
              "      <td>0.700000</td>\n",
              "      <td>1.000000</td>\n",
              "    </tr>\n",
              "    <tr>\n",
              "      <th>50%</th>\n",
              "      <td>45.000000</td>\n",
              "      <td>NaN</td>\n",
              "      <td>1.000000</td>\n",
              "      <td>0.300000</td>\n",
              "      <td>208.000000</td>\n",
              "      <td>35.000000</td>\n",
              "      <td>42.000000</td>\n",
              "      <td>6.600000</td>\n",
              "      <td>3.100000</td>\n",
              "      <td>0.930000</td>\n",
              "      <td>1.000000</td>\n",
              "    </tr>\n",
              "    <tr>\n",
              "      <th>75%</th>\n",
              "      <td>58.000000</td>\n",
              "      <td>NaN</td>\n",
              "      <td>2.600000</td>\n",
              "      <td>1.300000</td>\n",
              "      <td>298.000000</td>\n",
              "      <td>60.500000</td>\n",
              "      <td>87.000000</td>\n",
              "      <td>7.200000</td>\n",
              "      <td>3.800000</td>\n",
              "      <td>1.100000</td>\n",
              "      <td>2.000000</td>\n",
              "    </tr>\n",
              "    <tr>\n",
              "      <th>max</th>\n",
              "      <td>90.000000</td>\n",
              "      <td>NaN</td>\n",
              "      <td>75.000000</td>\n",
              "      <td>19.700000</td>\n",
              "      <td>2110.000000</td>\n",
              "      <td>2000.000000</td>\n",
              "      <td>4929.000000</td>\n",
              "      <td>9.600000</td>\n",
              "      <td>5.500000</td>\n",
              "      <td>2.800000</td>\n",
              "      <td>2.000000</td>\n",
              "    </tr>\n",
              "  </tbody>\n",
              "</table>\n",
              "</div>"
            ],
            "text/plain": [
              "               Age Gender  ...  Albumin_and_Globulin_Ratio     Dataset\n",
              "count   583.000000    583  ...                  579.000000  583.000000\n",
              "unique         NaN      2  ...                         NaN         NaN\n",
              "top            NaN   Male  ...                         NaN         NaN\n",
              "freq           NaN    441  ...                         NaN         NaN\n",
              "mean     44.746141    NaN  ...                    0.947064    1.286449\n",
              "std      16.189833    NaN  ...                    0.319592    0.452490\n",
              "min       4.000000    NaN  ...                    0.300000    1.000000\n",
              "25%      33.000000    NaN  ...                    0.700000    1.000000\n",
              "50%      45.000000    NaN  ...                    0.930000    1.000000\n",
              "75%      58.000000    NaN  ...                    1.100000    2.000000\n",
              "max      90.000000    NaN  ...                    2.800000    2.000000\n",
              "\n",
              "[11 rows x 11 columns]"
            ]
          },
          "metadata": {
            "tags": []
          },
          "execution_count": 24
        }
      ]
    },
    {
      "cell_type": "code",
      "metadata": {
        "id": "qJfCz2vT6PFH"
      },
      "source": [
        "def missing_values(data):\n",
        "    total = data.isnull().sum().sort_values(ascending=False)\n",
        "    percentage = (data.isnull().sum()/data.isnull().count()).sort_values(ascending=False)\n",
        "    percentage_final = (round(percentage, 2) * 100)\n",
        "    total_percent = pd.concat(objs=[total, percentage_final], axis = 1, keys=['Total', '%'])\n",
        "    return total_percent"
      ],
      "execution_count": null,
      "outputs": []
    },
    {
      "cell_type": "code",
      "metadata": {
        "colab": {
          "base_uri": "https://localhost:8080/",
          "height": 390
        },
        "id": "-o5KjHN76hSH",
        "outputId": "a6fcf433-4eff-4eaf-dae8-0355ebfdf3a0"
      },
      "source": [
        "missing_values(df_liver)"
      ],
      "execution_count": null,
      "outputs": [
        {
          "output_type": "execute_result",
          "data": {
            "text/html": [
              "<div>\n",
              "<style scoped>\n",
              "    .dataframe tbody tr th:only-of-type {\n",
              "        vertical-align: middle;\n",
              "    }\n",
              "\n",
              "    .dataframe tbody tr th {\n",
              "        vertical-align: top;\n",
              "    }\n",
              "\n",
              "    .dataframe thead th {\n",
              "        text-align: right;\n",
              "    }\n",
              "</style>\n",
              "<table border=\"1\" class=\"dataframe\">\n",
              "  <thead>\n",
              "    <tr style=\"text-align: right;\">\n",
              "      <th></th>\n",
              "      <th>Total</th>\n",
              "      <th>%</th>\n",
              "    </tr>\n",
              "  </thead>\n",
              "  <tbody>\n",
              "    <tr>\n",
              "      <th>Albumin_and_Globulin_Ratio</th>\n",
              "      <td>4</td>\n",
              "      <td>1.0</td>\n",
              "    </tr>\n",
              "    <tr>\n",
              "      <th>Dataset</th>\n",
              "      <td>0</td>\n",
              "      <td>0.0</td>\n",
              "    </tr>\n",
              "    <tr>\n",
              "      <th>Albumin</th>\n",
              "      <td>0</td>\n",
              "      <td>0.0</td>\n",
              "    </tr>\n",
              "    <tr>\n",
              "      <th>Total_Protiens</th>\n",
              "      <td>0</td>\n",
              "      <td>0.0</td>\n",
              "    </tr>\n",
              "    <tr>\n",
              "      <th>Aspartate_Aminotransferase</th>\n",
              "      <td>0</td>\n",
              "      <td>0.0</td>\n",
              "    </tr>\n",
              "    <tr>\n",
              "      <th>Alamine_Aminotransferase</th>\n",
              "      <td>0</td>\n",
              "      <td>0.0</td>\n",
              "    </tr>\n",
              "    <tr>\n",
              "      <th>Alkaline_Phosphotase</th>\n",
              "      <td>0</td>\n",
              "      <td>0.0</td>\n",
              "    </tr>\n",
              "    <tr>\n",
              "      <th>Direct_Bilirubin</th>\n",
              "      <td>0</td>\n",
              "      <td>0.0</td>\n",
              "    </tr>\n",
              "    <tr>\n",
              "      <th>Total_Bilirubin</th>\n",
              "      <td>0</td>\n",
              "      <td>0.0</td>\n",
              "    </tr>\n",
              "    <tr>\n",
              "      <th>Gender</th>\n",
              "      <td>0</td>\n",
              "      <td>0.0</td>\n",
              "    </tr>\n",
              "    <tr>\n",
              "      <th>Age</th>\n",
              "      <td>0</td>\n",
              "      <td>0.0</td>\n",
              "    </tr>\n",
              "  </tbody>\n",
              "</table>\n",
              "</div>"
            ],
            "text/plain": [
              "                            Total    %\n",
              "Albumin_and_Globulin_Ratio      4  1.0\n",
              "Dataset                         0  0.0\n",
              "Albumin                         0  0.0\n",
              "Total_Protiens                  0  0.0\n",
              "Aspartate_Aminotransferase      0  0.0\n",
              "Alamine_Aminotransferase        0  0.0\n",
              "Alkaline_Phosphotase            0  0.0\n",
              "Direct_Bilirubin                0  0.0\n",
              "Total_Bilirubin                 0  0.0\n",
              "Gender                          0  0.0\n",
              "Age                             0  0.0"
            ]
          },
          "metadata": {
            "tags": []
          },
          "execution_count": 26
        }
      ]
    },
    {
      "cell_type": "code",
      "metadata": {
        "colab": {
          "base_uri": "https://localhost:8080/"
        },
        "id": "ORSxDOD46pAX",
        "outputId": "45c04493-0b58-424e-da85-cef04aa5f878"
      },
      "source": [
        "df_liver['Albumin_and_Globulin_Ratio'].fillna(df_liver['Albumin_and_Globulin_Ratio'].mean(), inplace = True)\n",
        "df_liver['Albumin_and_Globulin_Ratio'].isnull().sum()"
      ],
      "execution_count": null,
      "outputs": [
        {
          "output_type": "execute_result",
          "data": {
            "text/plain": [
              "0"
            ]
          },
          "metadata": {
            "tags": []
          },
          "execution_count": 27
        }
      ]
    },
    {
      "cell_type": "code",
      "metadata": {
        "colab": {
          "base_uri": "https://localhost:8080/",
          "height": 390
        },
        "id": "ozDK8l1p6xff",
        "outputId": "41061816-43b7-4937-dc85-babd0040d7f4"
      },
      "source": [
        "missing_values(df_liver)"
      ],
      "execution_count": null,
      "outputs": [
        {
          "output_type": "execute_result",
          "data": {
            "text/html": [
              "<div>\n",
              "<style scoped>\n",
              "    .dataframe tbody tr th:only-of-type {\n",
              "        vertical-align: middle;\n",
              "    }\n",
              "\n",
              "    .dataframe tbody tr th {\n",
              "        vertical-align: top;\n",
              "    }\n",
              "\n",
              "    .dataframe thead th {\n",
              "        text-align: right;\n",
              "    }\n",
              "</style>\n",
              "<table border=\"1\" class=\"dataframe\">\n",
              "  <thead>\n",
              "    <tr style=\"text-align: right;\">\n",
              "      <th></th>\n",
              "      <th>Total</th>\n",
              "      <th>%</th>\n",
              "    </tr>\n",
              "  </thead>\n",
              "  <tbody>\n",
              "    <tr>\n",
              "      <th>Dataset</th>\n",
              "      <td>0</td>\n",
              "      <td>0.0</td>\n",
              "    </tr>\n",
              "    <tr>\n",
              "      <th>Albumin_and_Globulin_Ratio</th>\n",
              "      <td>0</td>\n",
              "      <td>0.0</td>\n",
              "    </tr>\n",
              "    <tr>\n",
              "      <th>Albumin</th>\n",
              "      <td>0</td>\n",
              "      <td>0.0</td>\n",
              "    </tr>\n",
              "    <tr>\n",
              "      <th>Total_Protiens</th>\n",
              "      <td>0</td>\n",
              "      <td>0.0</td>\n",
              "    </tr>\n",
              "    <tr>\n",
              "      <th>Aspartate_Aminotransferase</th>\n",
              "      <td>0</td>\n",
              "      <td>0.0</td>\n",
              "    </tr>\n",
              "    <tr>\n",
              "      <th>Alamine_Aminotransferase</th>\n",
              "      <td>0</td>\n",
              "      <td>0.0</td>\n",
              "    </tr>\n",
              "    <tr>\n",
              "      <th>Alkaline_Phosphotase</th>\n",
              "      <td>0</td>\n",
              "      <td>0.0</td>\n",
              "    </tr>\n",
              "    <tr>\n",
              "      <th>Direct_Bilirubin</th>\n",
              "      <td>0</td>\n",
              "      <td>0.0</td>\n",
              "    </tr>\n",
              "    <tr>\n",
              "      <th>Total_Bilirubin</th>\n",
              "      <td>0</td>\n",
              "      <td>0.0</td>\n",
              "    </tr>\n",
              "    <tr>\n",
              "      <th>Gender</th>\n",
              "      <td>0</td>\n",
              "      <td>0.0</td>\n",
              "    </tr>\n",
              "    <tr>\n",
              "      <th>Age</th>\n",
              "      <td>0</td>\n",
              "      <td>0.0</td>\n",
              "    </tr>\n",
              "  </tbody>\n",
              "</table>\n",
              "</div>"
            ],
            "text/plain": [
              "                            Total    %\n",
              "Dataset                         0  0.0\n",
              "Albumin_and_Globulin_Ratio      0  0.0\n",
              "Albumin                         0  0.0\n",
              "Total_Protiens                  0  0.0\n",
              "Aspartate_Aminotransferase      0  0.0\n",
              "Alamine_Aminotransferase        0  0.0\n",
              "Alkaline_Phosphotase            0  0.0\n",
              "Direct_Bilirubin                0  0.0\n",
              "Total_Bilirubin                 0  0.0\n",
              "Gender                          0  0.0\n",
              "Age                             0  0.0"
            ]
          },
          "metadata": {
            "tags": []
          },
          "execution_count": 28
        }
      ]
    },
    {
      "cell_type": "code",
      "metadata": {
        "colab": {
          "base_uri": "https://localhost:8080/",
          "height": 271
        },
        "id": "tuSsMXGw7GZf",
        "outputId": "4b8580f0-52e8-462a-fa86-23e4aaec9931"
      },
      "source": [
        "df_liver.corr().style.background_gradient(cmap='coolwarm')"
      ],
      "execution_count": null,
      "outputs": [
        {
          "output_type": "execute_result",
          "data": {
            "text/html": [
              "<style  type=\"text/css\" >\n",
              "#T_10a3beb6_6a0c_11eb_bb82_0242ac1c0002row0_col0,#T_10a3beb6_6a0c_11eb_bb82_0242ac1c0002row1_col1,#T_10a3beb6_6a0c_11eb_bb82_0242ac1c0002row2_col2,#T_10a3beb6_6a0c_11eb_bb82_0242ac1c0002row3_col3,#T_10a3beb6_6a0c_11eb_bb82_0242ac1c0002row4_col4,#T_10a3beb6_6a0c_11eb_bb82_0242ac1c0002row5_col5,#T_10a3beb6_6a0c_11eb_bb82_0242ac1c0002row6_col6,#T_10a3beb6_6a0c_11eb_bb82_0242ac1c0002row7_col7,#T_10a3beb6_6a0c_11eb_bb82_0242ac1c0002row8_col8,#T_10a3beb6_6a0c_11eb_bb82_0242ac1c0002row9_col9,#T_10a3beb6_6a0c_11eb_bb82_0242ac1c0002row10_col10{\n",
              "            background-color:  #b40426;\n",
              "            color:  #f1f1f1;\n",
              "        }#T_10a3beb6_6a0c_11eb_bb82_0242ac1c0002row0_col1,#T_10a3beb6_6a0c_11eb_bb82_0242ac1c0002row9_col5{\n",
              "            background-color:  #6687ed;\n",
              "            color:  #000000;\n",
              "        }#T_10a3beb6_6a0c_11eb_bb82_0242ac1c0002row0_col2,#T_10a3beb6_6a0c_11eb_bb82_0242ac1c0002row6_col0{\n",
              "            background-color:  #799cf8;\n",
              "            color:  #000000;\n",
              "        }#T_10a3beb6_6a0c_11eb_bb82_0242ac1c0002row0_col3{\n",
              "            background-color:  #7da0f9;\n",
              "            color:  #000000;\n",
              "        }#T_10a3beb6_6a0c_11eb_bb82_0242ac1c0002row0_col4,#T_10a3beb6_6a0c_11eb_bb82_0242ac1c0002row1_col0,#T_10a3beb6_6a0c_11eb_bb82_0242ac1c0002row1_col2{\n",
              "            background-color:  #8fb1fe;\n",
              "            color:  #000000;\n",
              "        }#T_10a3beb6_6a0c_11eb_bb82_0242ac1c0002row0_col5,#T_10a3beb6_6a0c_11eb_bb82_0242ac1c0002row5_col10{\n",
              "            background-color:  #4e68d8;\n",
              "            color:  #000000;\n",
              "        }#T_10a3beb6_6a0c_11eb_bb82_0242ac1c0002row0_col6,#T_10a3beb6_6a0c_11eb_bb82_0242ac1c0002row8_col5{\n",
              "            background-color:  #5e7de7;\n",
              "            color:  #000000;\n",
              "        }#T_10a3beb6_6a0c_11eb_bb82_0242ac1c0002row0_col7,#T_10a3beb6_6a0c_11eb_bb82_0242ac1c0002row0_col8,#T_10a3beb6_6a0c_11eb_bb82_0242ac1c0002row3_col10,#T_10a3beb6_6a0c_11eb_bb82_0242ac1c0002row4_col9,#T_10a3beb6_6a0c_11eb_bb82_0242ac1c0002row8_col0,#T_10a3beb6_6a0c_11eb_bb82_0242ac1c0002row8_col1,#T_10a3beb6_6a0c_11eb_bb82_0242ac1c0002row8_col2,#T_10a3beb6_6a0c_11eb_bb82_0242ac1c0002row9_col4,#T_10a3beb6_6a0c_11eb_bb82_0242ac1c0002row10_col2,#T_10a3beb6_6a0c_11eb_bb82_0242ac1c0002row10_col3,#T_10a3beb6_6a0c_11eb_bb82_0242ac1c0002row10_col5,#T_10a3beb6_6a0c_11eb_bb82_0242ac1c0002row10_col6{\n",
              "            background-color:  #3b4cc0;\n",
              "            color:  #f1f1f1;\n",
              "        }#T_10a3beb6_6a0c_11eb_bb82_0242ac1c0002row0_col9,#T_10a3beb6_6a0c_11eb_bb82_0242ac1c0002row8_col3,#T_10a3beb6_6a0c_11eb_bb82_0242ac1c0002row9_col2{\n",
              "            background-color:  #3e51c5;\n",
              "            color:  #f1f1f1;\n",
              "        }#T_10a3beb6_6a0c_11eb_bb82_0242ac1c0002row0_col10{\n",
              "            background-color:  #5572df;\n",
              "            color:  #000000;\n",
              "        }#T_10a3beb6_6a0c_11eb_bb82_0242ac1c0002row1_col3{\n",
              "            background-color:  #97b8ff;\n",
              "            color:  #000000;\n",
              "        }#T_10a3beb6_6a0c_11eb_bb82_0242ac1c0002row1_col4,#T_10a3beb6_6a0c_11eb_bb82_0242ac1c0002row2_col1,#T_10a3beb6_6a0c_11eb_bb82_0242ac1c0002row7_col4{\n",
              "            background-color:  #6f92f3;\n",
              "            color:  #000000;\n",
              "        }#T_10a3beb6_6a0c_11eb_bb82_0242ac1c0002row1_col5{\n",
              "            background-color:  #80a3fa;\n",
              "            color:  #000000;\n",
              "        }#T_10a3beb6_6a0c_11eb_bb82_0242ac1c0002row1_col6{\n",
              "            background-color:  #7b9ff9;\n",
              "            color:  #000000;\n",
              "        }#T_10a3beb6_6a0c_11eb_bb82_0242ac1c0002row1_col7,#T_10a3beb6_6a0c_11eb_bb82_0242ac1c0002row9_col1{\n",
              "            background-color:  #5470de;\n",
              "            color:  #000000;\n",
              "        }#T_10a3beb6_6a0c_11eb_bb82_0242ac1c0002row1_col8,#T_10a3beb6_6a0c_11eb_bb82_0242ac1c0002row4_col7,#T_10a3beb6_6a0c_11eb_bb82_0242ac1c0002row6_col7,#T_10a3beb6_6a0c_11eb_bb82_0242ac1c0002row6_col9{\n",
              "            background-color:  #6485ec;\n",
              "            color:  #000000;\n",
              "        }#T_10a3beb6_6a0c_11eb_bb82_0242ac1c0002row1_col9,#T_10a3beb6_6a0c_11eb_bb82_0242ac1c0002row5_col8,#T_10a3beb6_6a0c_11eb_bb82_0242ac1c0002row10_col7{\n",
              "            background-color:  #7699f6;\n",
              "            color:  #000000;\n",
              "        }#T_10a3beb6_6a0c_11eb_bb82_0242ac1c0002row1_col10{\n",
              "            background-color:  #6384eb;\n",
              "            color:  #000000;\n",
              "        }#T_10a3beb6_6a0c_11eb_bb82_0242ac1c0002row2_col0{\n",
              "            background-color:  #82a6fb;\n",
              "            color:  #000000;\n",
              "        }#T_10a3beb6_6a0c_11eb_bb82_0242ac1c0002row2_col3{\n",
              "            background-color:  #d65244;\n",
              "            color:  #000000;\n",
              "        }#T_10a3beb6_6a0c_11eb_bb82_0242ac1c0002row2_col4,#T_10a3beb6_6a0c_11eb_bb82_0242ac1c0002row3_col6,#T_10a3beb6_6a0c_11eb_bb82_0242ac1c0002row5_col2{\n",
              "            background-color:  #b2ccfb;\n",
              "            color:  #000000;\n",
              "        }#T_10a3beb6_6a0c_11eb_bb82_0242ac1c0002row2_col5,#T_10a3beb6_6a0c_11eb_bb82_0242ac1c0002row6_col4,#T_10a3beb6_6a0c_11eb_bb82_0242ac1c0002row8_col10,#T_10a3beb6_6a0c_11eb_bb82_0242ac1c0002row9_col10{\n",
              "            background-color:  #a7c5fe;\n",
              "            color:  #000000;\n",
              "        }#T_10a3beb6_6a0c_11eb_bb82_0242ac1c0002row2_col6,#T_10a3beb6_6a0c_11eb_bb82_0242ac1c0002row10_col8{\n",
              "            background-color:  #abc8fd;\n",
              "            color:  #000000;\n",
              "        }#T_10a3beb6_6a0c_11eb_bb82_0242ac1c0002row2_col7{\n",
              "            background-color:  #6a8bef;\n",
              "            color:  #000000;\n",
              "        }#T_10a3beb6_6a0c_11eb_bb82_0242ac1c0002row2_col8{\n",
              "            background-color:  #445acc;\n",
              "            color:  #f1f1f1;\n",
              "        }#T_10a3beb6_6a0c_11eb_bb82_0242ac1c0002row2_col9,#T_10a3beb6_6a0c_11eb_bb82_0242ac1c0002row2_col10{\n",
              "            background-color:  #4055c8;\n",
              "            color:  #f1f1f1;\n",
              "        }#T_10a3beb6_6a0c_11eb_bb82_0242ac1c0002row3_col0{\n",
              "            background-color:  #81a4fb;\n",
              "            color:  #000000;\n",
              "        }#T_10a3beb6_6a0c_11eb_bb82_0242ac1c0002row3_col1{\n",
              "            background-color:  #7396f5;\n",
              "            color:  #000000;\n",
              "        }#T_10a3beb6_6a0c_11eb_bb82_0242ac1c0002row3_col2{\n",
              "            background-color:  #d75445;\n",
              "            color:  #000000;\n",
              "        }#T_10a3beb6_6a0c_11eb_bb82_0242ac1c0002row3_col4,#T_10a3beb6_6a0c_11eb_bb82_0242ac1c0002row7_col9{\n",
              "            background-color:  #bad0f8;\n",
              "            color:  #000000;\n",
              "        }#T_10a3beb6_6a0c_11eb_bb82_0242ac1c0002row3_col5{\n",
              "            background-color:  #adc9fd;\n",
              "            color:  #000000;\n",
              "        }#T_10a3beb6_6a0c_11eb_bb82_0242ac1c0002row3_col7,#T_10a3beb6_6a0c_11eb_bb82_0242ac1c0002row6_col1{\n",
              "            background-color:  #6c8ff1;\n",
              "            color:  #000000;\n",
              "        }#T_10a3beb6_6a0c_11eb_bb82_0242ac1c0002row3_col8,#T_10a3beb6_6a0c_11eb_bb82_0242ac1c0002row3_col9{\n",
              "            background-color:  #4358cb;\n",
              "            color:  #f1f1f1;\n",
              "        }#T_10a3beb6_6a0c_11eb_bb82_0242ac1c0002row4_col0,#T_10a3beb6_6a0c_11eb_bb82_0242ac1c0002row4_col6{\n",
              "            background-color:  #96b7ff;\n",
              "            color:  #000000;\n",
              "        }#T_10a3beb6_6a0c_11eb_bb82_0242ac1c0002row4_col1,#T_10a3beb6_6a0c_11eb_bb82_0242ac1c0002row7_col0{\n",
              "            background-color:  #4c66d6;\n",
              "            color:  #000000;\n",
              "        }#T_10a3beb6_6a0c_11eb_bb82_0242ac1c0002row4_col2{\n",
              "            background-color:  #afcafc;\n",
              "            color:  #000000;\n",
              "        }#T_10a3beb6_6a0c_11eb_bb82_0242ac1c0002row4_col3,#T_10a3beb6_6a0c_11eb_bb82_0242ac1c0002row5_col3{\n",
              "            background-color:  #bbd1f8;\n",
              "            color:  #000000;\n",
              "        }#T_10a3beb6_6a0c_11eb_bb82_0242ac1c0002row4_col5{\n",
              "            background-color:  #8caffe;\n",
              "            color:  #000000;\n",
              "        }#T_10a3beb6_6a0c_11eb_bb82_0242ac1c0002row4_col8{\n",
              "            background-color:  #536edd;\n",
              "            color:  #000000;\n",
              "        }#T_10a3beb6_6a0c_11eb_bb82_0242ac1c0002row4_col10{\n",
              "            background-color:  #4961d2;\n",
              "            color:  #f1f1f1;\n",
              "        }#T_10a3beb6_6a0c_11eb_bb82_0242ac1c0002row5_col0,#T_10a3beb6_6a0c_11eb_bb82_0242ac1c0002row6_col8{\n",
              "            background-color:  #6788ee;\n",
              "            color:  #000000;\n",
              "        }#T_10a3beb6_6a0c_11eb_bb82_0242ac1c0002row5_col1{\n",
              "            background-color:  #6e90f2;\n",
              "            color:  #000000;\n",
              "        }#T_10a3beb6_6a0c_11eb_bb82_0242ac1c0002row5_col4{\n",
              "            background-color:  #9bbcff;\n",
              "            color:  #000000;\n",
              "        }#T_10a3beb6_6a0c_11eb_bb82_0242ac1c0002row5_col6,#T_10a3beb6_6a0c_11eb_bb82_0242ac1c0002row8_col7{\n",
              "            background-color:  #ea7b60;\n",
              "            color:  #000000;\n",
              "        }#T_10a3beb6_6a0c_11eb_bb82_0242ac1c0002row5_col7{\n",
              "            background-color:  #6180e9;\n",
              "            color:  #000000;\n",
              "        }#T_10a3beb6_6a0c_11eb_bb82_0242ac1c0002row5_col9{\n",
              "            background-color:  #779af7;\n",
              "            color:  #000000;\n",
              "        }#T_10a3beb6_6a0c_11eb_bb82_0242ac1c0002row6_col2{\n",
              "            background-color:  #b9d0f9;\n",
              "            color:  #000000;\n",
              "        }#T_10a3beb6_6a0c_11eb_bb82_0242ac1c0002row6_col3{\n",
              "            background-color:  #c1d4f4;\n",
              "            color:  #000000;\n",
              "        }#T_10a3beb6_6a0c_11eb_bb82_0242ac1c0002row6_col5{\n",
              "            background-color:  #e97a5f;\n",
              "            color:  #000000;\n",
              "        }#T_10a3beb6_6a0c_11eb_bb82_0242ac1c0002row6_col10{\n",
              "            background-color:  #516ddb;\n",
              "            color:  #000000;\n",
              "        }#T_10a3beb6_6a0c_11eb_bb82_0242ac1c0002row7_col1{\n",
              "            background-color:  #3c4ec2;\n",
              "            color:  #f1f1f1;\n",
              "        }#T_10a3beb6_6a0c_11eb_bb82_0242ac1c0002row7_col2{\n",
              "            background-color:  #7295f4;\n",
              "            color:  #000000;\n",
              "        }#T_10a3beb6_6a0c_11eb_bb82_0242ac1c0002row7_col3{\n",
              "            background-color:  #7a9df8;\n",
              "            color:  #000000;\n",
              "        }#T_10a3beb6_6a0c_11eb_bb82_0242ac1c0002row7_col5,#T_10a3beb6_6a0c_11eb_bb82_0242ac1c0002row10_col0{\n",
              "            background-color:  #5a78e4;\n",
              "            color:  #000000;\n",
              "        }#T_10a3beb6_6a0c_11eb_bb82_0242ac1c0002row7_col6{\n",
              "            background-color:  #5d7ce6;\n",
              "            color:  #000000;\n",
              "        }#T_10a3beb6_6a0c_11eb_bb82_0242ac1c0002row7_col8{\n",
              "            background-color:  #e8765c;\n",
              "            color:  #000000;\n",
              "        }#T_10a3beb6_6a0c_11eb_bb82_0242ac1c0002row7_col10{\n",
              "            background-color:  #84a7fc;\n",
              "            color:  #000000;\n",
              "        }#T_10a3beb6_6a0c_11eb_bb82_0242ac1c0002row8_col4,#T_10a3beb6_6a0c_11eb_bb82_0242ac1c0002row8_col6{\n",
              "            background-color:  #4b64d5;\n",
              "            color:  #f1f1f1;\n",
              "        }#T_10a3beb6_6a0c_11eb_bb82_0242ac1c0002row8_col9{\n",
              "            background-color:  #f59c7d;\n",
              "            color:  #000000;\n",
              "        }#T_10a3beb6_6a0c_11eb_bb82_0242ac1c0002row9_col0,#T_10a3beb6_6a0c_11eb_bb82_0242ac1c0002row10_col4{\n",
              "            background-color:  #465ecf;\n",
              "            color:  #f1f1f1;\n",
              "        }#T_10a3beb6_6a0c_11eb_bb82_0242ac1c0002row9_col3{\n",
              "            background-color:  #455cce;\n",
              "            color:  #f1f1f1;\n",
              "        }#T_10a3beb6_6a0c_11eb_bb82_0242ac1c0002row9_col6{\n",
              "            background-color:  #506bda;\n",
              "            color:  #000000;\n",
              "        }#T_10a3beb6_6a0c_11eb_bb82_0242ac1c0002row9_col7{\n",
              "            background-color:  #b1cbfc;\n",
              "            color:  #000000;\n",
              "        }#T_10a3beb6_6a0c_11eb_bb82_0242ac1c0002row9_col8{\n",
              "            background-color:  #f4987a;\n",
              "            color:  #000000;\n",
              "        }#T_10a3beb6_6a0c_11eb_bb82_0242ac1c0002row10_col1{\n",
              "            background-color:  #3d50c3;\n",
              "            color:  #f1f1f1;\n",
              "        }#T_10a3beb6_6a0c_11eb_bb82_0242ac1c0002row10_col9{\n",
              "            background-color:  #a6c4fe;\n",
              "            color:  #000000;\n",
              "        }</style><table id=\"T_10a3beb6_6a0c_11eb_bb82_0242ac1c0002\" ><thead>    <tr>        <th class=\"blank level0\" ></th>        <th class=\"col_heading level0 col0\" >Age</th>        <th class=\"col_heading level0 col1\" >Gender</th>        <th class=\"col_heading level0 col2\" >Total_Bilirubin</th>        <th class=\"col_heading level0 col3\" >Direct_Bilirubin</th>        <th class=\"col_heading level0 col4\" >Alkaline_Phosphotase</th>        <th class=\"col_heading level0 col5\" >Alamine_Aminotransferase</th>        <th class=\"col_heading level0 col6\" >Aspartate_Aminotransferase</th>        <th class=\"col_heading level0 col7\" >Total_Protiens</th>        <th class=\"col_heading level0 col8\" >Albumin</th>        <th class=\"col_heading level0 col9\" >Albumin_and_Globulin_Ratio</th>        <th class=\"col_heading level0 col10\" >Dataset</th>    </tr></thead><tbody>\n",
              "                <tr>\n",
              "                        <th id=\"T_10a3beb6_6a0c_11eb_bb82_0242ac1c0002level0_row0\" class=\"row_heading level0 row0\" >Age</th>\n",
              "                        <td id=\"T_10a3beb6_6a0c_11eb_bb82_0242ac1c0002row0_col0\" class=\"data row0 col0\" >1.000000</td>\n",
              "                        <td id=\"T_10a3beb6_6a0c_11eb_bb82_0242ac1c0002row0_col1\" class=\"data row0 col1\" >0.056560</td>\n",
              "                        <td id=\"T_10a3beb6_6a0c_11eb_bb82_0242ac1c0002row0_col2\" class=\"data row0 col2\" >0.011763</td>\n",
              "                        <td id=\"T_10a3beb6_6a0c_11eb_bb82_0242ac1c0002row0_col3\" class=\"data row0 col3\" >0.007529</td>\n",
              "                        <td id=\"T_10a3beb6_6a0c_11eb_bb82_0242ac1c0002row0_col4\" class=\"data row0 col4\" >0.080425</td>\n",
              "                        <td id=\"T_10a3beb6_6a0c_11eb_bb82_0242ac1c0002row0_col5\" class=\"data row0 col5\" >-0.086883</td>\n",
              "                        <td id=\"T_10a3beb6_6a0c_11eb_bb82_0242ac1c0002row0_col6\" class=\"data row0 col6\" >-0.019910</td>\n",
              "                        <td id=\"T_10a3beb6_6a0c_11eb_bb82_0242ac1c0002row0_col7\" class=\"data row0 col7\" >-0.187461</td>\n",
              "                        <td id=\"T_10a3beb6_6a0c_11eb_bb82_0242ac1c0002row0_col8\" class=\"data row0 col8\" >-0.265924</td>\n",
              "                        <td id=\"T_10a3beb6_6a0c_11eb_bb82_0242ac1c0002row0_col9\" class=\"data row0 col9\" >-0.216089</td>\n",
              "                        <td id=\"T_10a3beb6_6a0c_11eb_bb82_0242ac1c0002row0_col10\" class=\"data row0 col10\" >-0.137351</td>\n",
              "            </tr>\n",
              "            <tr>\n",
              "                        <th id=\"T_10a3beb6_6a0c_11eb_bb82_0242ac1c0002level0_row1\" class=\"row_heading level0 row1\" >Gender</th>\n",
              "                        <td id=\"T_10a3beb6_6a0c_11eb_bb82_0242ac1c0002row1_col0\" class=\"data row1 col0\" >0.056560</td>\n",
              "                        <td id=\"T_10a3beb6_6a0c_11eb_bb82_0242ac1c0002row1_col1\" class=\"data row1 col1\" >1.000000</td>\n",
              "                        <td id=\"T_10a3beb6_6a0c_11eb_bb82_0242ac1c0002row1_col2\" class=\"data row1 col2\" >0.089291</td>\n",
              "                        <td id=\"T_10a3beb6_6a0c_11eb_bb82_0242ac1c0002row1_col3\" class=\"data row1 col3\" >0.100436</td>\n",
              "                        <td id=\"T_10a3beb6_6a0c_11eb_bb82_0242ac1c0002row1_col4\" class=\"data row1 col4\" >-0.027496</td>\n",
              "                        <td id=\"T_10a3beb6_6a0c_11eb_bb82_0242ac1c0002row1_col5\" class=\"data row1 col5\" >0.082332</td>\n",
              "                        <td id=\"T_10a3beb6_6a0c_11eb_bb82_0242ac1c0002row1_col6\" class=\"data row1 col6\" >0.080336</td>\n",
              "                        <td id=\"T_10a3beb6_6a0c_11eb_bb82_0242ac1c0002row1_col7\" class=\"data row1 col7\" >-0.089121</td>\n",
              "                        <td id=\"T_10a3beb6_6a0c_11eb_bb82_0242ac1c0002row1_col8\" class=\"data row1 col8\" >-0.093799</td>\n",
              "                        <td id=\"T_10a3beb6_6a0c_11eb_bb82_0242ac1c0002row1_col9\" class=\"data row1 col9\" >-0.003404</td>\n",
              "                        <td id=\"T_10a3beb6_6a0c_11eb_bb82_0242ac1c0002row1_col10\" class=\"data row1 col10\" >-0.082416</td>\n",
              "            </tr>\n",
              "            <tr>\n",
              "                        <th id=\"T_10a3beb6_6a0c_11eb_bb82_0242ac1c0002level0_row2\" class=\"row_heading level0 row2\" >Total_Bilirubin</th>\n",
              "                        <td id=\"T_10a3beb6_6a0c_11eb_bb82_0242ac1c0002row2_col0\" class=\"data row2 col0\" >0.011763</td>\n",
              "                        <td id=\"T_10a3beb6_6a0c_11eb_bb82_0242ac1c0002row2_col1\" class=\"data row2 col1\" >0.089291</td>\n",
              "                        <td id=\"T_10a3beb6_6a0c_11eb_bb82_0242ac1c0002row2_col2\" class=\"data row2 col2\" >1.000000</td>\n",
              "                        <td id=\"T_10a3beb6_6a0c_11eb_bb82_0242ac1c0002row2_col3\" class=\"data row2 col3\" >0.874618</td>\n",
              "                        <td id=\"T_10a3beb6_6a0c_11eb_bb82_0242ac1c0002row2_col4\" class=\"data row2 col4\" >0.206669</td>\n",
              "                        <td id=\"T_10a3beb6_6a0c_11eb_bb82_0242ac1c0002row2_col5\" class=\"data row2 col5\" >0.214065</td>\n",
              "                        <td id=\"T_10a3beb6_6a0c_11eb_bb82_0242ac1c0002row2_col6\" class=\"data row2 col6\" >0.237831</td>\n",
              "                        <td id=\"T_10a3beb6_6a0c_11eb_bb82_0242ac1c0002row2_col7\" class=\"data row2 col7\" >-0.008099</td>\n",
              "                        <td id=\"T_10a3beb6_6a0c_11eb_bb82_0242ac1c0002row2_col8\" class=\"data row2 col8\" >-0.222250</td>\n",
              "                        <td id=\"T_10a3beb6_6a0c_11eb_bb82_0242ac1c0002row2_col9\" class=\"data row2 col9\" >-0.206159</td>\n",
              "                        <td id=\"T_10a3beb6_6a0c_11eb_bb82_0242ac1c0002row2_col10\" class=\"data row2 col10\" >-0.220208</td>\n",
              "            </tr>\n",
              "            <tr>\n",
              "                        <th id=\"T_10a3beb6_6a0c_11eb_bb82_0242ac1c0002level0_row3\" class=\"row_heading level0 row3\" >Direct_Bilirubin</th>\n",
              "                        <td id=\"T_10a3beb6_6a0c_11eb_bb82_0242ac1c0002row3_col0\" class=\"data row3 col0\" >0.007529</td>\n",
              "                        <td id=\"T_10a3beb6_6a0c_11eb_bb82_0242ac1c0002row3_col1\" class=\"data row3 col1\" >0.100436</td>\n",
              "                        <td id=\"T_10a3beb6_6a0c_11eb_bb82_0242ac1c0002row3_col2\" class=\"data row3 col2\" >0.874618</td>\n",
              "                        <td id=\"T_10a3beb6_6a0c_11eb_bb82_0242ac1c0002row3_col3\" class=\"data row3 col3\" >1.000000</td>\n",
              "                        <td id=\"T_10a3beb6_6a0c_11eb_bb82_0242ac1c0002row3_col4\" class=\"data row3 col4\" >0.234939</td>\n",
              "                        <td id=\"T_10a3beb6_6a0c_11eb_bb82_0242ac1c0002row3_col5\" class=\"data row3 col5\" >0.233894</td>\n",
              "                        <td id=\"T_10a3beb6_6a0c_11eb_bb82_0242ac1c0002row3_col6\" class=\"data row3 col6\" >0.257544</td>\n",
              "                        <td id=\"T_10a3beb6_6a0c_11eb_bb82_0242ac1c0002row3_col7\" class=\"data row3 col7\" >-0.000139</td>\n",
              "                        <td id=\"T_10a3beb6_6a0c_11eb_bb82_0242ac1c0002row3_col8\" class=\"data row3 col8\" >-0.228531</td>\n",
              "                        <td id=\"T_10a3beb6_6a0c_11eb_bb82_0242ac1c0002row3_col9\" class=\"data row3 col9\" >-0.200004</td>\n",
              "                        <td id=\"T_10a3beb6_6a0c_11eb_bb82_0242ac1c0002row3_col10\" class=\"data row3 col10\" >-0.246046</td>\n",
              "            </tr>\n",
              "            <tr>\n",
              "                        <th id=\"T_10a3beb6_6a0c_11eb_bb82_0242ac1c0002level0_row4\" class=\"row_heading level0 row4\" >Alkaline_Phosphotase</th>\n",
              "                        <td id=\"T_10a3beb6_6a0c_11eb_bb82_0242ac1c0002row4_col0\" class=\"data row4 col0\" >0.080425</td>\n",
              "                        <td id=\"T_10a3beb6_6a0c_11eb_bb82_0242ac1c0002row4_col1\" class=\"data row4 col1\" >-0.027496</td>\n",
              "                        <td id=\"T_10a3beb6_6a0c_11eb_bb82_0242ac1c0002row4_col2\" class=\"data row4 col2\" >0.206669</td>\n",
              "                        <td id=\"T_10a3beb6_6a0c_11eb_bb82_0242ac1c0002row4_col3\" class=\"data row4 col3\" >0.234939</td>\n",
              "                        <td id=\"T_10a3beb6_6a0c_11eb_bb82_0242ac1c0002row4_col4\" class=\"data row4 col4\" >1.000000</td>\n",
              "                        <td id=\"T_10a3beb6_6a0c_11eb_bb82_0242ac1c0002row4_col5\" class=\"data row4 col5\" >0.125680</td>\n",
              "                        <td id=\"T_10a3beb6_6a0c_11eb_bb82_0242ac1c0002row4_col6\" class=\"data row4 col6\" >0.167196</td>\n",
              "                        <td id=\"T_10a3beb6_6a0c_11eb_bb82_0242ac1c0002row4_col7\" class=\"data row4 col7\" >-0.028514</td>\n",
              "                        <td id=\"T_10a3beb6_6a0c_11eb_bb82_0242ac1c0002row4_col8\" class=\"data row4 col8\" >-0.165453</td>\n",
              "                        <td id=\"T_10a3beb6_6a0c_11eb_bb82_0242ac1c0002row4_col9\" class=\"data row4 col9\" >-0.233960</td>\n",
              "                        <td id=\"T_10a3beb6_6a0c_11eb_bb82_0242ac1c0002row4_col10\" class=\"data row4 col10\" >-0.184866</td>\n",
              "            </tr>\n",
              "            <tr>\n",
              "                        <th id=\"T_10a3beb6_6a0c_11eb_bb82_0242ac1c0002level0_row5\" class=\"row_heading level0 row5\" >Alamine_Aminotransferase</th>\n",
              "                        <td id=\"T_10a3beb6_6a0c_11eb_bb82_0242ac1c0002row5_col0\" class=\"data row5 col0\" >-0.086883</td>\n",
              "                        <td id=\"T_10a3beb6_6a0c_11eb_bb82_0242ac1c0002row5_col1\" class=\"data row5 col1\" >0.082332</td>\n",
              "                        <td id=\"T_10a3beb6_6a0c_11eb_bb82_0242ac1c0002row5_col2\" class=\"data row5 col2\" >0.214065</td>\n",
              "                        <td id=\"T_10a3beb6_6a0c_11eb_bb82_0242ac1c0002row5_col3\" class=\"data row5 col3\" >0.233894</td>\n",
              "                        <td id=\"T_10a3beb6_6a0c_11eb_bb82_0242ac1c0002row5_col4\" class=\"data row5 col4\" >0.125680</td>\n",
              "                        <td id=\"T_10a3beb6_6a0c_11eb_bb82_0242ac1c0002row5_col5\" class=\"data row5 col5\" >1.000000</td>\n",
              "                        <td id=\"T_10a3beb6_6a0c_11eb_bb82_0242ac1c0002row5_col6\" class=\"data row5 col6\" >0.791966</td>\n",
              "                        <td id=\"T_10a3beb6_6a0c_11eb_bb82_0242ac1c0002row5_col7\" class=\"data row5 col7\" >-0.042518</td>\n",
              "                        <td id=\"T_10a3beb6_6a0c_11eb_bb82_0242ac1c0002row5_col8\" class=\"data row5 col8\" >-0.029742</td>\n",
              "                        <td id=\"T_10a3beb6_6a0c_11eb_bb82_0242ac1c0002row5_col9\" class=\"data row5 col9\" >-0.002374</td>\n",
              "                        <td id=\"T_10a3beb6_6a0c_11eb_bb82_0242ac1c0002row5_col10\" class=\"data row5 col10\" >-0.163416</td>\n",
              "            </tr>\n",
              "            <tr>\n",
              "                        <th id=\"T_10a3beb6_6a0c_11eb_bb82_0242ac1c0002level0_row6\" class=\"row_heading level0 row6\" >Aspartate_Aminotransferase</th>\n",
              "                        <td id=\"T_10a3beb6_6a0c_11eb_bb82_0242ac1c0002row6_col0\" class=\"data row6 col0\" >-0.019910</td>\n",
              "                        <td id=\"T_10a3beb6_6a0c_11eb_bb82_0242ac1c0002row6_col1\" class=\"data row6 col1\" >0.080336</td>\n",
              "                        <td id=\"T_10a3beb6_6a0c_11eb_bb82_0242ac1c0002row6_col2\" class=\"data row6 col2\" >0.237831</td>\n",
              "                        <td id=\"T_10a3beb6_6a0c_11eb_bb82_0242ac1c0002row6_col3\" class=\"data row6 col3\" >0.257544</td>\n",
              "                        <td id=\"T_10a3beb6_6a0c_11eb_bb82_0242ac1c0002row6_col4\" class=\"data row6 col4\" >0.167196</td>\n",
              "                        <td id=\"T_10a3beb6_6a0c_11eb_bb82_0242ac1c0002row6_col5\" class=\"data row6 col5\" >0.791966</td>\n",
              "                        <td id=\"T_10a3beb6_6a0c_11eb_bb82_0242ac1c0002row6_col6\" class=\"data row6 col6\" >1.000000</td>\n",
              "                        <td id=\"T_10a3beb6_6a0c_11eb_bb82_0242ac1c0002row6_col7\" class=\"data row6 col7\" >-0.025645</td>\n",
              "                        <td id=\"T_10a3beb6_6a0c_11eb_bb82_0242ac1c0002row6_col8\" class=\"data row6 col8\" >-0.085290</td>\n",
              "                        <td id=\"T_10a3beb6_6a0c_11eb_bb82_0242ac1c0002row6_col9\" class=\"data row6 col9\" >-0.070024</td>\n",
              "                        <td id=\"T_10a3beb6_6a0c_11eb_bb82_0242ac1c0002row6_col10\" class=\"data row6 col10\" >-0.151934</td>\n",
              "            </tr>\n",
              "            <tr>\n",
              "                        <th id=\"T_10a3beb6_6a0c_11eb_bb82_0242ac1c0002level0_row7\" class=\"row_heading level0 row7\" >Total_Protiens</th>\n",
              "                        <td id=\"T_10a3beb6_6a0c_11eb_bb82_0242ac1c0002row7_col0\" class=\"data row7 col0\" >-0.187461</td>\n",
              "                        <td id=\"T_10a3beb6_6a0c_11eb_bb82_0242ac1c0002row7_col1\" class=\"data row7 col1\" >-0.089121</td>\n",
              "                        <td id=\"T_10a3beb6_6a0c_11eb_bb82_0242ac1c0002row7_col2\" class=\"data row7 col2\" >-0.008099</td>\n",
              "                        <td id=\"T_10a3beb6_6a0c_11eb_bb82_0242ac1c0002row7_col3\" class=\"data row7 col3\" >-0.000139</td>\n",
              "                        <td id=\"T_10a3beb6_6a0c_11eb_bb82_0242ac1c0002row7_col4\" class=\"data row7 col4\" >-0.028514</td>\n",
              "                        <td id=\"T_10a3beb6_6a0c_11eb_bb82_0242ac1c0002row7_col5\" class=\"data row7 col5\" >-0.042518</td>\n",
              "                        <td id=\"T_10a3beb6_6a0c_11eb_bb82_0242ac1c0002row7_col6\" class=\"data row7 col6\" >-0.025645</td>\n",
              "                        <td id=\"T_10a3beb6_6a0c_11eb_bb82_0242ac1c0002row7_col7\" class=\"data row7 col7\" >1.000000</td>\n",
              "                        <td id=\"T_10a3beb6_6a0c_11eb_bb82_0242ac1c0002row7_col8\" class=\"data row7 col8\" >0.784053</td>\n",
              "                        <td id=\"T_10a3beb6_6a0c_11eb_bb82_0242ac1c0002row7_col9\" class=\"data row7 col9\" >0.233904</td>\n",
              "                        <td id=\"T_10a3beb6_6a0c_11eb_bb82_0242ac1c0002row7_col10\" class=\"data row7 col10\" >0.035008</td>\n",
              "            </tr>\n",
              "            <tr>\n",
              "                        <th id=\"T_10a3beb6_6a0c_11eb_bb82_0242ac1c0002level0_row8\" class=\"row_heading level0 row8\" >Albumin</th>\n",
              "                        <td id=\"T_10a3beb6_6a0c_11eb_bb82_0242ac1c0002row8_col0\" class=\"data row8 col0\" >-0.265924</td>\n",
              "                        <td id=\"T_10a3beb6_6a0c_11eb_bb82_0242ac1c0002row8_col1\" class=\"data row8 col1\" >-0.093799</td>\n",
              "                        <td id=\"T_10a3beb6_6a0c_11eb_bb82_0242ac1c0002row8_col2\" class=\"data row8 col2\" >-0.222250</td>\n",
              "                        <td id=\"T_10a3beb6_6a0c_11eb_bb82_0242ac1c0002row8_col3\" class=\"data row8 col3\" >-0.228531</td>\n",
              "                        <td id=\"T_10a3beb6_6a0c_11eb_bb82_0242ac1c0002row8_col4\" class=\"data row8 col4\" >-0.165453</td>\n",
              "                        <td id=\"T_10a3beb6_6a0c_11eb_bb82_0242ac1c0002row8_col5\" class=\"data row8 col5\" >-0.029742</td>\n",
              "                        <td id=\"T_10a3beb6_6a0c_11eb_bb82_0242ac1c0002row8_col6\" class=\"data row8 col6\" >-0.085290</td>\n",
              "                        <td id=\"T_10a3beb6_6a0c_11eb_bb82_0242ac1c0002row8_col7\" class=\"data row8 col7\" >0.784053</td>\n",
              "                        <td id=\"T_10a3beb6_6a0c_11eb_bb82_0242ac1c0002row8_col8\" class=\"data row8 col8\" >1.000000</td>\n",
              "                        <td id=\"T_10a3beb6_6a0c_11eb_bb82_0242ac1c0002row8_col9\" class=\"data row8 col9\" >0.686322</td>\n",
              "                        <td id=\"T_10a3beb6_6a0c_11eb_bb82_0242ac1c0002row8_col10\" class=\"data row8 col10\" >0.161388</td>\n",
              "            </tr>\n",
              "            <tr>\n",
              "                        <th id=\"T_10a3beb6_6a0c_11eb_bb82_0242ac1c0002level0_row9\" class=\"row_heading level0 row9\" >Albumin_and_Globulin_Ratio</th>\n",
              "                        <td id=\"T_10a3beb6_6a0c_11eb_bb82_0242ac1c0002row9_col0\" class=\"data row9 col0\" >-0.216089</td>\n",
              "                        <td id=\"T_10a3beb6_6a0c_11eb_bb82_0242ac1c0002row9_col1\" class=\"data row9 col1\" >-0.003404</td>\n",
              "                        <td id=\"T_10a3beb6_6a0c_11eb_bb82_0242ac1c0002row9_col2\" class=\"data row9 col2\" >-0.206159</td>\n",
              "                        <td id=\"T_10a3beb6_6a0c_11eb_bb82_0242ac1c0002row9_col3\" class=\"data row9 col3\" >-0.200004</td>\n",
              "                        <td id=\"T_10a3beb6_6a0c_11eb_bb82_0242ac1c0002row9_col4\" class=\"data row9 col4\" >-0.233960</td>\n",
              "                        <td id=\"T_10a3beb6_6a0c_11eb_bb82_0242ac1c0002row9_col5\" class=\"data row9 col5\" >-0.002374</td>\n",
              "                        <td id=\"T_10a3beb6_6a0c_11eb_bb82_0242ac1c0002row9_col6\" class=\"data row9 col6\" >-0.070024</td>\n",
              "                        <td id=\"T_10a3beb6_6a0c_11eb_bb82_0242ac1c0002row9_col7\" class=\"data row9 col7\" >0.233904</td>\n",
              "                        <td id=\"T_10a3beb6_6a0c_11eb_bb82_0242ac1c0002row9_col8\" class=\"data row9 col8\" >0.686322</td>\n",
              "                        <td id=\"T_10a3beb6_6a0c_11eb_bb82_0242ac1c0002row9_col9\" class=\"data row9 col9\" >1.000000</td>\n",
              "                        <td id=\"T_10a3beb6_6a0c_11eb_bb82_0242ac1c0002row9_col10\" class=\"data row9 col10\" >0.162319</td>\n",
              "            </tr>\n",
              "            <tr>\n",
              "                        <th id=\"T_10a3beb6_6a0c_11eb_bb82_0242ac1c0002level0_row10\" class=\"row_heading level0 row10\" >Dataset</th>\n",
              "                        <td id=\"T_10a3beb6_6a0c_11eb_bb82_0242ac1c0002row10_col0\" class=\"data row10 col0\" >-0.137351</td>\n",
              "                        <td id=\"T_10a3beb6_6a0c_11eb_bb82_0242ac1c0002row10_col1\" class=\"data row10 col1\" >-0.082416</td>\n",
              "                        <td id=\"T_10a3beb6_6a0c_11eb_bb82_0242ac1c0002row10_col2\" class=\"data row10 col2\" >-0.220208</td>\n",
              "                        <td id=\"T_10a3beb6_6a0c_11eb_bb82_0242ac1c0002row10_col3\" class=\"data row10 col3\" >-0.246046</td>\n",
              "                        <td id=\"T_10a3beb6_6a0c_11eb_bb82_0242ac1c0002row10_col4\" class=\"data row10 col4\" >-0.184866</td>\n",
              "                        <td id=\"T_10a3beb6_6a0c_11eb_bb82_0242ac1c0002row10_col5\" class=\"data row10 col5\" >-0.163416</td>\n",
              "                        <td id=\"T_10a3beb6_6a0c_11eb_bb82_0242ac1c0002row10_col6\" class=\"data row10 col6\" >-0.151934</td>\n",
              "                        <td id=\"T_10a3beb6_6a0c_11eb_bb82_0242ac1c0002row10_col7\" class=\"data row10 col7\" >0.035008</td>\n",
              "                        <td id=\"T_10a3beb6_6a0c_11eb_bb82_0242ac1c0002row10_col8\" class=\"data row10 col8\" >0.161388</td>\n",
              "                        <td id=\"T_10a3beb6_6a0c_11eb_bb82_0242ac1c0002row10_col9\" class=\"data row10 col9\" >0.162319</td>\n",
              "                        <td id=\"T_10a3beb6_6a0c_11eb_bb82_0242ac1c0002row10_col10\" class=\"data row10 col10\" >1.000000</td>\n",
              "            </tr>\n",
              "    </tbody></table>"
            ],
            "text/plain": [
              "<pandas.io.formats.style.Styler at 0x7f3acbc13cf8>"
            ]
          },
          "metadata": {
            "tags": []
          },
          "execution_count": 30
        }
      ]
    },
    {
      "cell_type": "code",
      "metadata": {
        "colab": {
          "base_uri": "https://localhost:8080/",
          "height": 204
        },
        "id": "htkMp7-r74ou",
        "outputId": "f7395464-073f-46c5-931a-13a3a66e7889"
      },
      "source": [
        "df_liver['Gender'] = df_liver['Gender'].map({'Male': 1, 'Female': 0})\n",
        "df_liver.head()"
      ],
      "execution_count": null,
      "outputs": [
        {
          "output_type": "execute_result",
          "data": {
            "text/html": [
              "<div>\n",
              "<style scoped>\n",
              "    .dataframe tbody tr th:only-of-type {\n",
              "        vertical-align: middle;\n",
              "    }\n",
              "\n",
              "    .dataframe tbody tr th {\n",
              "        vertical-align: top;\n",
              "    }\n",
              "\n",
              "    .dataframe thead th {\n",
              "        text-align: right;\n",
              "    }\n",
              "</style>\n",
              "<table border=\"1\" class=\"dataframe\">\n",
              "  <thead>\n",
              "    <tr style=\"text-align: right;\">\n",
              "      <th></th>\n",
              "      <th>Age</th>\n",
              "      <th>Gender</th>\n",
              "      <th>Total_Bilirubin</th>\n",
              "      <th>Direct_Bilirubin</th>\n",
              "      <th>Alkaline_Phosphotase</th>\n",
              "      <th>Alamine_Aminotransferase</th>\n",
              "      <th>Aspartate_Aminotransferase</th>\n",
              "      <th>Total_Protiens</th>\n",
              "      <th>Albumin</th>\n",
              "      <th>Albumin_and_Globulin_Ratio</th>\n",
              "      <th>Dataset</th>\n",
              "    </tr>\n",
              "  </thead>\n",
              "  <tbody>\n",
              "    <tr>\n",
              "      <th>0</th>\n",
              "      <td>65</td>\n",
              "      <td>0</td>\n",
              "      <td>0.7</td>\n",
              "      <td>0.1</td>\n",
              "      <td>187</td>\n",
              "      <td>16</td>\n",
              "      <td>18</td>\n",
              "      <td>6.8</td>\n",
              "      <td>3.3</td>\n",
              "      <td>0.90</td>\n",
              "      <td>1</td>\n",
              "    </tr>\n",
              "    <tr>\n",
              "      <th>1</th>\n",
              "      <td>62</td>\n",
              "      <td>1</td>\n",
              "      <td>10.9</td>\n",
              "      <td>5.5</td>\n",
              "      <td>699</td>\n",
              "      <td>64</td>\n",
              "      <td>100</td>\n",
              "      <td>7.5</td>\n",
              "      <td>3.2</td>\n",
              "      <td>0.74</td>\n",
              "      <td>1</td>\n",
              "    </tr>\n",
              "    <tr>\n",
              "      <th>2</th>\n",
              "      <td>62</td>\n",
              "      <td>1</td>\n",
              "      <td>7.3</td>\n",
              "      <td>4.1</td>\n",
              "      <td>490</td>\n",
              "      <td>60</td>\n",
              "      <td>68</td>\n",
              "      <td>7.0</td>\n",
              "      <td>3.3</td>\n",
              "      <td>0.89</td>\n",
              "      <td>1</td>\n",
              "    </tr>\n",
              "    <tr>\n",
              "      <th>3</th>\n",
              "      <td>58</td>\n",
              "      <td>1</td>\n",
              "      <td>1.0</td>\n",
              "      <td>0.4</td>\n",
              "      <td>182</td>\n",
              "      <td>14</td>\n",
              "      <td>20</td>\n",
              "      <td>6.8</td>\n",
              "      <td>3.4</td>\n",
              "      <td>1.00</td>\n",
              "      <td>1</td>\n",
              "    </tr>\n",
              "    <tr>\n",
              "      <th>4</th>\n",
              "      <td>72</td>\n",
              "      <td>1</td>\n",
              "      <td>3.9</td>\n",
              "      <td>2.0</td>\n",
              "      <td>195</td>\n",
              "      <td>27</td>\n",
              "      <td>59</td>\n",
              "      <td>7.3</td>\n",
              "      <td>2.4</td>\n",
              "      <td>0.40</td>\n",
              "      <td>1</td>\n",
              "    </tr>\n",
              "  </tbody>\n",
              "</table>\n",
              "</div>"
            ],
            "text/plain": [
              "   Age  Gender  Total_Bilirubin  ...  Albumin  Albumin_and_Globulin_Ratio  Dataset\n",
              "0   65       0              0.7  ...      3.3                        0.90        1\n",
              "1   62       1             10.9  ...      3.2                        0.74        1\n",
              "2   62       1              7.3  ...      3.3                        0.89        1\n",
              "3   58       1              1.0  ...      3.4                        1.00        1\n",
              "4   72       1              3.9  ...      2.4                        0.40        1\n",
              "\n",
              "[5 rows x 11 columns]"
            ]
          },
          "metadata": {
            "tags": []
          },
          "execution_count": 29
        }
      ]
    },
    {
      "cell_type": "markdown",
      "metadata": {
        "id": "esr8u6lpuGge"
      },
      "source": [
        "**Hypothesis Testing **"
      ]
    },
    {
      "cell_type": "code",
      "metadata": {
        "colab": {
          "base_uri": "https://localhost:8080/",
          "height": 204
        },
        "id": "hIBz26k-CvI8",
        "outputId": "b76fabda-1766-48ef-f7d2-c215ee684584"
      },
      "source": [
        "df_liver_hyp = df_liver\n",
        "df_liver_hyp.head()"
      ],
      "execution_count": null,
      "outputs": [
        {
          "output_type": "execute_result",
          "data": {
            "text/html": [
              "<div>\n",
              "<style scoped>\n",
              "    .dataframe tbody tr th:only-of-type {\n",
              "        vertical-align: middle;\n",
              "    }\n",
              "\n",
              "    .dataframe tbody tr th {\n",
              "        vertical-align: top;\n",
              "    }\n",
              "\n",
              "    .dataframe thead th {\n",
              "        text-align: right;\n",
              "    }\n",
              "</style>\n",
              "<table border=\"1\" class=\"dataframe\">\n",
              "  <thead>\n",
              "    <tr style=\"text-align: right;\">\n",
              "      <th></th>\n",
              "      <th>Age</th>\n",
              "      <th>Gender</th>\n",
              "      <th>Total_Bilirubin</th>\n",
              "      <th>Direct_Bilirubin</th>\n",
              "      <th>Alkaline_Phosphotase</th>\n",
              "      <th>Alamine_Aminotransferase</th>\n",
              "      <th>Aspartate_Aminotransferase</th>\n",
              "      <th>Total_Protiens</th>\n",
              "      <th>Albumin</th>\n",
              "      <th>Albumin_and_Globulin_Ratio</th>\n",
              "      <th>Dataset</th>\n",
              "      <th>Hypothesis</th>\n",
              "      <th>Result</th>\n",
              "    </tr>\n",
              "  </thead>\n",
              "  <tbody>\n",
              "    <tr>\n",
              "      <th>0</th>\n",
              "      <td>65</td>\n",
              "      <td>0</td>\n",
              "      <td>0.7</td>\n",
              "      <td>0.1</td>\n",
              "      <td>187</td>\n",
              "      <td>16</td>\n",
              "      <td>18</td>\n",
              "      <td>6.8</td>\n",
              "      <td>3.3</td>\n",
              "      <td>0.90</td>\n",
              "      <td>1</td>\n",
              "      <td>1</td>\n",
              "      <td>1</td>\n",
              "    </tr>\n",
              "    <tr>\n",
              "      <th>1</th>\n",
              "      <td>62</td>\n",
              "      <td>1</td>\n",
              "      <td>10.9</td>\n",
              "      <td>5.5</td>\n",
              "      <td>699</td>\n",
              "      <td>64</td>\n",
              "      <td>100</td>\n",
              "      <td>7.5</td>\n",
              "      <td>3.2</td>\n",
              "      <td>0.74</td>\n",
              "      <td>1</td>\n",
              "      <td>1</td>\n",
              "      <td>1</td>\n",
              "    </tr>\n",
              "    <tr>\n",
              "      <th>2</th>\n",
              "      <td>62</td>\n",
              "      <td>1</td>\n",
              "      <td>7.3</td>\n",
              "      <td>4.1</td>\n",
              "      <td>490</td>\n",
              "      <td>60</td>\n",
              "      <td>68</td>\n",
              "      <td>7.0</td>\n",
              "      <td>3.3</td>\n",
              "      <td>0.89</td>\n",
              "      <td>1</td>\n",
              "      <td>1</td>\n",
              "      <td>1</td>\n",
              "    </tr>\n",
              "    <tr>\n",
              "      <th>3</th>\n",
              "      <td>58</td>\n",
              "      <td>1</td>\n",
              "      <td>1.0</td>\n",
              "      <td>0.4</td>\n",
              "      <td>182</td>\n",
              "      <td>14</td>\n",
              "      <td>20</td>\n",
              "      <td>6.8</td>\n",
              "      <td>3.4</td>\n",
              "      <td>1.00</td>\n",
              "      <td>1</td>\n",
              "      <td>1</td>\n",
              "      <td>1</td>\n",
              "    </tr>\n",
              "    <tr>\n",
              "      <th>4</th>\n",
              "      <td>72</td>\n",
              "      <td>1</td>\n",
              "      <td>3.9</td>\n",
              "      <td>2.0</td>\n",
              "      <td>195</td>\n",
              "      <td>27</td>\n",
              "      <td>59</td>\n",
              "      <td>7.3</td>\n",
              "      <td>2.4</td>\n",
              "      <td>0.40</td>\n",
              "      <td>1</td>\n",
              "      <td>1</td>\n",
              "      <td>1</td>\n",
              "    </tr>\n",
              "  </tbody>\n",
              "</table>\n",
              "</div>"
            ],
            "text/plain": [
              "   Age  Gender  Total_Bilirubin  ...  Dataset  Hypothesis  Result\n",
              "0   65       0              0.7  ...        1           1       1\n",
              "1   62       1             10.9  ...        1           1       1\n",
              "2   62       1              7.3  ...        1           1       1\n",
              "3   58       1              1.0  ...        1           1       1\n",
              "4   72       1              3.9  ...        1           1       1\n",
              "\n",
              "[5 rows x 13 columns]"
            ]
          },
          "metadata": {
            "tags": []
          },
          "execution_count": 60
        }
      ]
    },
    {
      "cell_type": "code",
      "metadata": {
        "colab": {
          "base_uri": "https://localhost:8080/",
          "height": 204
        },
        "id": "im7v6gu-DFqU",
        "outputId": "c3964801-18f1-4ef7-a652-8953a3773239"
      },
      "source": [
        "df_liver_hyp['Hypothesis'] = 0\n",
        "\n",
        "df_liver_hyp.loc[df_liver_hyp['Dataset'] == 1, 'Hypothesis'] = 1\n",
        "\n",
        "df_liver_hyp['Result'] = 0\n",
        "\n",
        "df_liver_hyp.loc[df_liver_hyp['Dataset'] == df_liver_hyp['Hypothesis'], 'Result'] = 1\n",
        "\n",
        "df_liver_hyp.head()"
      ],
      "execution_count": null,
      "outputs": [
        {
          "output_type": "execute_result",
          "data": {
            "text/html": [
              "<div>\n",
              "<style scoped>\n",
              "    .dataframe tbody tr th:only-of-type {\n",
              "        vertical-align: middle;\n",
              "    }\n",
              "\n",
              "    .dataframe tbody tr th {\n",
              "        vertical-align: top;\n",
              "    }\n",
              "\n",
              "    .dataframe thead th {\n",
              "        text-align: right;\n",
              "    }\n",
              "</style>\n",
              "<table border=\"1\" class=\"dataframe\">\n",
              "  <thead>\n",
              "    <tr style=\"text-align: right;\">\n",
              "      <th></th>\n",
              "      <th>Age</th>\n",
              "      <th>Gender</th>\n",
              "      <th>Total_Bilirubin</th>\n",
              "      <th>Direct_Bilirubin</th>\n",
              "      <th>Alkaline_Phosphotase</th>\n",
              "      <th>Alamine_Aminotransferase</th>\n",
              "      <th>Aspartate_Aminotransferase</th>\n",
              "      <th>Total_Protiens</th>\n",
              "      <th>Albumin</th>\n",
              "      <th>Albumin_and_Globulin_Ratio</th>\n",
              "      <th>Dataset</th>\n",
              "      <th>Hypothesis</th>\n",
              "      <th>Result</th>\n",
              "    </tr>\n",
              "  </thead>\n",
              "  <tbody>\n",
              "    <tr>\n",
              "      <th>0</th>\n",
              "      <td>65</td>\n",
              "      <td>0</td>\n",
              "      <td>0.7</td>\n",
              "      <td>0.1</td>\n",
              "      <td>187</td>\n",
              "      <td>16</td>\n",
              "      <td>18</td>\n",
              "      <td>6.8</td>\n",
              "      <td>3.3</td>\n",
              "      <td>0.90</td>\n",
              "      <td>1</td>\n",
              "      <td>1</td>\n",
              "      <td>1</td>\n",
              "    </tr>\n",
              "    <tr>\n",
              "      <th>1</th>\n",
              "      <td>62</td>\n",
              "      <td>1</td>\n",
              "      <td>10.9</td>\n",
              "      <td>5.5</td>\n",
              "      <td>699</td>\n",
              "      <td>64</td>\n",
              "      <td>100</td>\n",
              "      <td>7.5</td>\n",
              "      <td>3.2</td>\n",
              "      <td>0.74</td>\n",
              "      <td>1</td>\n",
              "      <td>1</td>\n",
              "      <td>1</td>\n",
              "    </tr>\n",
              "    <tr>\n",
              "      <th>2</th>\n",
              "      <td>62</td>\n",
              "      <td>1</td>\n",
              "      <td>7.3</td>\n",
              "      <td>4.1</td>\n",
              "      <td>490</td>\n",
              "      <td>60</td>\n",
              "      <td>68</td>\n",
              "      <td>7.0</td>\n",
              "      <td>3.3</td>\n",
              "      <td>0.89</td>\n",
              "      <td>1</td>\n",
              "      <td>1</td>\n",
              "      <td>1</td>\n",
              "    </tr>\n",
              "    <tr>\n",
              "      <th>3</th>\n",
              "      <td>58</td>\n",
              "      <td>1</td>\n",
              "      <td>1.0</td>\n",
              "      <td>0.4</td>\n",
              "      <td>182</td>\n",
              "      <td>14</td>\n",
              "      <td>20</td>\n",
              "      <td>6.8</td>\n",
              "      <td>3.4</td>\n",
              "      <td>1.00</td>\n",
              "      <td>1</td>\n",
              "      <td>1</td>\n",
              "      <td>1</td>\n",
              "    </tr>\n",
              "    <tr>\n",
              "      <th>4</th>\n",
              "      <td>72</td>\n",
              "      <td>1</td>\n",
              "      <td>3.9</td>\n",
              "      <td>2.0</td>\n",
              "      <td>195</td>\n",
              "      <td>27</td>\n",
              "      <td>59</td>\n",
              "      <td>7.3</td>\n",
              "      <td>2.4</td>\n",
              "      <td>0.40</td>\n",
              "      <td>1</td>\n",
              "      <td>1</td>\n",
              "      <td>1</td>\n",
              "    </tr>\n",
              "  </tbody>\n",
              "</table>\n",
              "</div>"
            ],
            "text/plain": [
              "   Age  Gender  Total_Bilirubin  ...  Dataset  Hypothesis  Result\n",
              "0   65       0              0.7  ...        1           1       1\n",
              "1   62       1             10.9  ...        1           1       1\n",
              "2   62       1              7.3  ...        1           1       1\n",
              "3   58       1              1.0  ...        1           1       1\n",
              "4   72       1              3.9  ...        1           1       1\n",
              "\n",
              "[5 rows x 13 columns]"
            ]
          },
          "metadata": {
            "tags": []
          },
          "execution_count": 61
        }
      ]
    },
    {
      "cell_type": "code",
      "metadata": {
        "colab": {
          "base_uri": "https://localhost:8080/"
        },
        "id": "bVpe9ZpUDWpc",
        "outputId": "63205e0f-6922-4552-b5b4-75dc87c57136"
      },
      "source": [
        "round(df_liver_hyp['Result'].value_counts(normalize=True) * 100, 3)"
      ],
      "execution_count": null,
      "outputs": [
        {
          "output_type": "execute_result",
          "data": {
            "text/plain": [
              "1    71.355\n",
              "0    28.645\n",
              "Name: Result, dtype: float64"
            ]
          },
          "metadata": {
            "tags": []
          },
          "execution_count": 62
        }
      ]
    },
    {
      "cell_type": "markdown",
      "metadata": {
        "id": "eiEfYGxWuU0e"
      },
      "source": [
        "**ML algorithm experiment starts from here**"
      ]
    },
    {
      "cell_type": "code",
      "metadata": {
        "id": "8F0gDVIPDhjj"
      },
      "source": [
        "from sklearn.ensemble import RandomForestClassifier, GradientBoostingClassifier\n",
        "from sklearn.preprocessing import MinMaxScaler\n",
        "from sklearn.metrics import accuracy_score\n",
        "\n",
        "from sklearn.model_selection import StratifiedKFold, train_test_split, cross_val_score\n",
        "\n",
        "from sklearn.linear_model import LogisticRegression\n",
        "from sklearn.neighbors import KNeighborsClassifier\n",
        "from sklearn.neural_network import MLPClassifier\n",
        "from sklearn.tree import DecisionTreeClassifier\n",
        "from sklearn.naive_bayes import GaussianNB\n",
        "from sklearn.svm import SVC"
      ],
      "execution_count": null,
      "outputs": []
    },
    {
      "cell_type": "code",
      "metadata": {
        "id": "FwxUod8LDtdT"
      },
      "source": [
        "K_fold = StratifiedKFold(n_splits=10)"
      ],
      "execution_count": null,
      "outputs": []
    },
    {
      "cell_type": "code",
      "metadata": {
        "colab": {
          "base_uri": "https://localhost:8080/"
        },
        "id": "8GJM99sTD0nz",
        "outputId": "b4fe9c15-d396-4959-dfa3-a2ea6028d7ef"
      },
      "source": [
        "X = df_liver.drop([\"Dataset\", \"Hypothesis\", \"Result\"],axis = 1)\n",
        "Y = df_liver[\"Dataset\"]\n",
        "\n",
        "scaler=MinMaxScaler()\n",
        "scaled_values=scaler.fit_transform(X)\n",
        "X.loc[:,:]=scaled_values\n",
        "\n",
        "X_train, X_test, Y_train, Y_test=train_test_split(X,Y,stratify=Y, test_size=0.3,random_state=42)\n",
        "\n",
        "\n",
        "X_train.shape, Y_train.shape, X_test.shape, Y_test.shape"
      ],
      "execution_count": null,
      "outputs": [
        {
          "output_type": "execute_result",
          "data": {
            "text/plain": [
              "((408, 10), (408,), (175, 10), (175,))"
            ]
          },
          "metadata": {
            "tags": []
          },
          "execution_count": 65
        }
      ]
    },
    {
      "cell_type": "code",
      "metadata": {
        "colab": {
          "base_uri": "https://localhost:8080/"
        },
        "id": "ZW0MeMkMEAob",
        "outputId": "1b463129-22a5-4422-beb5-bcb615b496f3"
      },
      "source": [
        "model_logreg = LogisticRegression()\n",
        "model_logreg.fit(X_train,Y_train)\n",
        "y_pred = model_logreg.predict(X_test)\n",
        "\n",
        "scores = cross_val_score(model_logreg, X_train, Y_train, cv=K_fold, n_jobs=4, scoring='accuracy')\n",
        "\n",
        "print(scores)\n",
        "score_logreg = round(np.mean(scores) * 100, 3)\n",
        "print(\"Score: {}\".format(score_logreg))\n",
        "acc_logreg = round(np.mean(accuracy_score(Y_test, y_pred)) * 100, 3)\n",
        "print(\"Accuracy: {}\".format(acc_logreg))"
      ],
      "execution_count": null,
      "outputs": [
        {
          "output_type": "stream",
          "text": [
            "[0.73170732 0.73170732 0.70731707 0.68292683 0.70731707 0.68292683\n",
            " 0.70731707 0.73170732 0.725      0.725     ]\n",
            "Score: 71.329\n",
            "Accuracy: 72.0\n"
          ],
          "name": "stdout"
        }
      ]
    },
    {
      "cell_type": "code",
      "metadata": {
        "colab": {
          "base_uri": "https://localhost:8080/"
        },
        "id": "IIDKl1s1EZNT",
        "outputId": "ccfc2382-5f44-4165-d9fc-64a17af16b18"
      },
      "source": [
        "model_knn = KNeighborsClassifier(n_neighbors=5)\n",
        "model_knn.fit(X_train, Y_train)\n",
        "y_pred = model_knn.predict(X_test)\n",
        "\n",
        "scores = cross_val_score(model_knn, X_train, Y_train, cv=K_fold, n_jobs=4, scoring='accuracy')\n",
        "\n",
        "print(scores)\n",
        "score_knn = round(np.mean(scores) * 100, 3)\n",
        "print(\"Score: {}\".format(score_knn))\n",
        "acc_knn = round(np.mean(accuracy_score(Y_test, y_pred)) * 100, 3)\n",
        "print(\"Accuracy: {}\".format(acc_knn))"
      ],
      "execution_count": null,
      "outputs": [
        {
          "output_type": "stream",
          "text": [
            "[0.73170732 0.70731707 0.70731707 0.58536585 0.56097561 0.75609756\n",
            " 0.63414634 0.70731707 0.725      0.6       ]\n",
            "Score: 67.152\n",
            "Accuracy: 65.143\n"
          ],
          "name": "stdout"
        }
      ]
    },
    {
      "cell_type": "code",
      "metadata": {
        "colab": {
          "base_uri": "https://localhost:8080/"
        },
        "id": "pAJVSmvZEnp7",
        "outputId": "e02410d8-bd0f-434c-a6bb-3cf8f5617ecd"
      },
      "source": [
        "model_MLP = MLPClassifier()\n",
        "model_MLP.fit(X_train, Y_train)\n",
        "y_pred = model_MLP.predict(X_test)\n",
        "\n",
        "scores = cross_val_score(model_MLP, X_train, Y_train, cv=K_fold, n_jobs=4, scoring='accuracy' )\n",
        "\n",
        "print(scores)\n",
        "score_MLP = round(np.mean(scores) * 100, 3)\n",
        "print(\"Score: {}\".format(score_MLP))\n",
        "acc_MLP = round(np.mean(accuracy_score(Y_test, y_pred)) * 100, 3)\n",
        "print(\"Accuracy: {}\".format(acc_MLP))"
      ],
      "execution_count": null,
      "outputs": [
        {
          "output_type": "stream",
          "text": [
            "/usr/local/lib/python3.6/dist-packages/sklearn/neural_network/_multilayer_perceptron.py:571: ConvergenceWarning: Stochastic Optimizer: Maximum iterations (200) reached and the optimization hasn't converged yet.\n",
            "  % self.max_iter, ConvergenceWarning)\n"
          ],
          "name": "stderr"
        },
        {
          "output_type": "stream",
          "text": [
            "[0.73170732 0.75609756 0.68292683 0.58536585 0.70731707 0.6097561\n",
            " 0.75609756 0.70731707 0.725      0.75      ]\n",
            "Score: 70.116\n",
            "Accuracy: 73.714\n"
          ],
          "name": "stdout"
        }
      ]
    },
    {
      "cell_type": "code",
      "metadata": {
        "colab": {
          "base_uri": "https://localhost:8080/"
        },
        "id": "ERu7l2pTE8VT",
        "outputId": "f29789ef-fc87-4974-fa41-9b83afb697cc"
      },
      "source": [
        "model_dtc = DecisionTreeClassifier()\n",
        "model_dtc.fit(X_train, Y_train)\n",
        "y_pred = model_dtc.predict(X_test)\n",
        "\n",
        "scores = cross_val_score(model_dtc, X_train, Y_train, cv=K_fold, n_jobs=4, scoring='accuracy')\n",
        "\n",
        "print(scores)\n",
        "score_dtc = round(np.mean(scores) * 100, 3)\n",
        "print(\"Score: {}\".format(score_dtc))\n",
        "acc_dtc = round(np.mean(accuracy_score(Y_test, y_pred)) * 100, 3)\n",
        "print(\"Accuracy: {}\".format(acc_dtc))"
      ],
      "execution_count": null,
      "outputs": [
        {
          "output_type": "stream",
          "text": [
            "[0.70731707 0.65853659 0.70731707 0.68292683 0.63414634 0.56097561\n",
            " 0.68292683 0.56097561 0.65       0.65      ]\n",
            "Score: 64.951\n",
            "Accuracy: 61.143\n"
          ],
          "name": "stdout"
        }
      ]
    },
    {
      "cell_type": "code",
      "metadata": {
        "colab": {
          "base_uri": "https://localhost:8080/"
        },
        "id": "UFk7zKneFKXk",
        "outputId": "70a2bd9e-d31f-4884-8f35-f92290f2646f"
      },
      "source": [
        "model_rfc = RandomForestClassifier(n_estimators=50)\n",
        "model_rfc.fit(X_train, Y_train)\n",
        "y_pred = model_rfc.predict(X_test)\n",
        "\n",
        "scores = cross_val_score(model_rfc, X_train, Y_train, cv=K_fold, n_jobs=4, scoring ='accuracy')\n",
        "\n",
        "print(scores)\n",
        "score_rfc = round(np.mean(scores) * 100, 3)\n",
        "print(\"Score: {}\".format(score_rfc))\n",
        "acc_rfc = round(np.mean(accuracy_score(Y_test, y_pred)) * 100, 3)\n",
        "print(\"Accuracy: {}\".format(acc_rfc))"
      ],
      "execution_count": null,
      "outputs": [
        {
          "output_type": "stream",
          "text": [
            "[0.53658537 0.73170732 0.75609756 0.75609756 0.7804878  0.63414634\n",
            " 0.80487805 0.70731707 0.675      0.75      ]\n",
            "Score: 71.323\n",
            "Accuracy: 70.286\n"
          ],
          "name": "stdout"
        }
      ]
    },
    {
      "cell_type": "code",
      "metadata": {
        "colab": {
          "base_uri": "https://localhost:8080/"
        },
        "id": "YEhcuHOXFV0z",
        "outputId": "accaff65-18cc-4621-8921-c438f8e01677"
      },
      "source": [
        "model_gaussNB = GaussianNB()\n",
        "model_gaussNB.fit(X_train, Y_train)\n",
        "y_pred = model_gaussNB.predict(X_test)\n",
        "\n",
        "scores = cross_val_score(model_gaussNB, X_train, Y_train, cv=K_fold, n_jobs=4, scoring='accuracy')\n",
        "\n",
        "print(scores)\n",
        "score_gaussNB = round(np.mean(scores) * 100, 3)\n",
        "print(\"Score: {}\".format(score_gaussNB))\n",
        "acc_gaussNB = round(np.mean(accuracy_score(Y_test, y_pred)) * 100, 3)\n",
        "print(\"Accuracy: {}\".format(acc_gaussNB))"
      ],
      "execution_count": null,
      "outputs": [
        {
          "output_type": "stream",
          "text": [
            "[0.51219512 0.56097561 0.68292683 0.56097561 0.6097561  0.46341463\n",
            " 0.65853659 0.53658537 0.5        0.5       ]\n",
            "Score: 55.854\n",
            "Accuracy: 54.857\n"
          ],
          "name": "stdout"
        }
      ]
    },
    {
      "cell_type": "code",
      "metadata": {
        "colab": {
          "base_uri": "https://localhost:8080/"
        },
        "id": "81YQleMsFfo7",
        "outputId": "b3da8be6-58af-4d58-f7d1-96255a306eb0"
      },
      "source": [
        "model_SVC = SVC()\n",
        "model_SVC.fit(X_train, Y_train)\n",
        "y_pred = model_SVC.predict(X_test)\n",
        "\n",
        "scores = cross_val_score(model_SVC, X_train, Y_train, cv=K_fold, n_jobs=4, scoring='accuracy')\n",
        "\n",
        "print(scores)\n",
        "score_SVC = round(np.mean(scores) * 100, 3)\n",
        "print(\"Score: {}\".format(score_SVC))\n",
        "acc_SVC = round(np.mean(accuracy_score(Y_test, y_pred)) * 100, 3)\n",
        "print(\"Accuracy: {}\".format(acc_SVC))"
      ],
      "execution_count": null,
      "outputs": [
        {
          "output_type": "stream",
          "text": [
            "[0.73170732 0.70731707 0.70731707 0.70731707 0.70731707 0.70731707\n",
            " 0.70731707 0.70731707 0.725      0.725     ]\n",
            "Score: 71.329\n",
            "Accuracy: 71.429\n"
          ],
          "name": "stdout"
        }
      ]
    },
    {
      "cell_type": "code",
      "metadata": {
        "colab": {
          "base_uri": "https://localhost:8080/"
        },
        "id": "Lmk3XPTMF4Iz",
        "outputId": "4c913ffd-10c2-43a9-cd2e-7a54d8593db1"
      },
      "source": [
        "model_GBC = GradientBoostingClassifier()\n",
        "model_GBC.fit(X_train, Y_train)\n",
        "y_pred = model_GBC.predict(X_test)\n",
        "\n",
        "scores = cross_val_score(model_GBC, X_train, Y_train, cv=K_fold, n_jobs=4, scoring='accuracy')\n",
        "\n",
        "print(scores)\n",
        "score_GBC = round(np.mean(scores) * 100, 3)\n",
        "print(\"Score: {}\".format(score_GBC))\n",
        "acc_GBC = round(np.mean(accuracy_score(Y_test, y_pred)) * 100, 3)\n",
        "print(\"Accuracy: {}\".format(acc_GBC))"
      ],
      "execution_count": null,
      "outputs": [
        {
          "output_type": "stream",
          "text": [
            "[0.63414634 0.75609756 0.75609756 0.6097561  0.75609756 0.65853659\n",
            " 0.82926829 0.6097561  0.7        0.825     ]\n",
            "Score: 71.348\n",
            "Accuracy: 64.571\n"
          ],
          "name": "stdout"
        }
      ]
    },
    {
      "cell_type": "code",
      "metadata": {
        "colab": {
          "base_uri": "https://localhost:8080/",
          "height": 328
        },
        "id": "OQzyjIEiGFJ0",
        "outputId": "c168c412-0c04-4fc9-9a31-b0ef17b7afb5"
      },
      "source": [
        "results = pd.DataFrame({'Model': ['Logistic Regression','KNeighborsClassifer', 'MLP Classifier', \n",
        "                                  'Decision Tree Classifier', 'Random Forest Classifier', 'GaussianNB', 'SVC', \n",
        "                                  'GB Classifier'],\n",
        "                        'Accuracy': [acc_logreg, acc_knn, acc_MLP, acc_dtc, acc_rfc, acc_gaussNB, \n",
        "                                  acc_SVC, acc_GBC], \n",
        "                        'Score': [score_logreg, score_knn, score_MLP, score_dtc, score_rfc, score_gaussNB, \n",
        "                                  score_SVC, score_GBC],})\n",
        "df_results = results.sort_values(by='Score', ascending=False)\n",
        "df_results = df_results.set_index('Score')\n",
        "df_results"
      ],
      "execution_count": null,
      "outputs": [
        {
          "output_type": "execute_result",
          "data": {
            "text/html": [
              "<div>\n",
              "<style scoped>\n",
              "    .dataframe tbody tr th:only-of-type {\n",
              "        vertical-align: middle;\n",
              "    }\n",
              "\n",
              "    .dataframe tbody tr th {\n",
              "        vertical-align: top;\n",
              "    }\n",
              "\n",
              "    .dataframe thead th {\n",
              "        text-align: right;\n",
              "    }\n",
              "</style>\n",
              "<table border=\"1\" class=\"dataframe\">\n",
              "  <thead>\n",
              "    <tr style=\"text-align: right;\">\n",
              "      <th></th>\n",
              "      <th>Model</th>\n",
              "      <th>Accuracy</th>\n",
              "    </tr>\n",
              "    <tr>\n",
              "      <th>Score</th>\n",
              "      <th></th>\n",
              "      <th></th>\n",
              "    </tr>\n",
              "  </thead>\n",
              "  <tbody>\n",
              "    <tr>\n",
              "      <th>71.348</th>\n",
              "      <td>GB Classifier</td>\n",
              "      <td>64.571</td>\n",
              "    </tr>\n",
              "    <tr>\n",
              "      <th>71.329</th>\n",
              "      <td>Logistic Regression</td>\n",
              "      <td>72.000</td>\n",
              "    </tr>\n",
              "    <tr>\n",
              "      <th>71.329</th>\n",
              "      <td>SVC</td>\n",
              "      <td>71.429</td>\n",
              "    </tr>\n",
              "    <tr>\n",
              "      <th>71.323</th>\n",
              "      <td>Random Forest Classifier</td>\n",
              "      <td>70.286</td>\n",
              "    </tr>\n",
              "    <tr>\n",
              "      <th>70.116</th>\n",
              "      <td>MLP Classifier</td>\n",
              "      <td>73.714</td>\n",
              "    </tr>\n",
              "    <tr>\n",
              "      <th>67.152</th>\n",
              "      <td>KNeighborsClassifer</td>\n",
              "      <td>65.143</td>\n",
              "    </tr>\n",
              "    <tr>\n",
              "      <th>64.951</th>\n",
              "      <td>Decision Tree Classifier</td>\n",
              "      <td>61.143</td>\n",
              "    </tr>\n",
              "    <tr>\n",
              "      <th>55.854</th>\n",
              "      <td>GaussianNB</td>\n",
              "      <td>54.857</td>\n",
              "    </tr>\n",
              "  </tbody>\n",
              "</table>\n",
              "</div>"
            ],
            "text/plain": [
              "                           Model  Accuracy\n",
              "Score                                     \n",
              "71.348             GB Classifier    64.571\n",
              "71.329       Logistic Regression    72.000\n",
              "71.329                       SVC    71.429\n",
              "71.323  Random Forest Classifier    70.286\n",
              "70.116            MLP Classifier    73.714\n",
              "67.152       KNeighborsClassifer    65.143\n",
              "64.951  Decision Tree Classifier    61.143\n",
              "55.854                GaussianNB    54.857"
            ]
          },
          "metadata": {
            "tags": []
          },
          "execution_count": 75
        }
      ]
    },
    {
      "cell_type": "code",
      "metadata": {
        "id": "LjvVfvo3GPA7"
      },
      "source": [
        ""
      ],
      "execution_count": null,
      "outputs": []
    }
  ]
}